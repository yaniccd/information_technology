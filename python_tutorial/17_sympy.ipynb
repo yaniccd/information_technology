{
 "cells": [
  {
   "cell_type": "markdown",
   "metadata": {},
   "source": [
    "# Sympy\n",
    "\n",
    "see all branches of [symbolic_moments](https://github.com/polyquantique/symbolic_moments) and [symbolic_moments_internal](https://github.com/polyquantique/symbolic_moments_internal) as well as the homeworks of quantum mechanics 2 for the diagonalisation of symbolic matrices.\n",
    "\n",
    "Also go through the files in my Drive in `PolytechniqueMontreal/22T2_stage_bosonsampling/Python`."
   ]
  },
  {
   "cell_type": "code",
   "execution_count": null,
   "metadata": {},
   "outputs": [],
   "source": [
    "from sympy import Symbol, symbols, Matrix, MatrixSymbol\n",
    "import numpy as np"
   ]
  },
  {
   "cell_type": "code",
   "execution_count": null,
   "metadata": {},
   "outputs": [],
   "source": [
    "alpha = symbols(\"alpha1:%d\" % (m+1))\n",
    "alphaa = Symbol(\"alpha\")\n",
    "display(alpha)\n",
    "display(alphaa)\n",
    "gamma = symbols(\"alpha1:%d\" % (m+1))\n",
    "gamma = np.array(gamma)\n",
    "display(sum(gamma))\n",
    "N_matrix = MatrixSymbol(\"N\", m+1, m+1)\n",
    "display(N_matrix[1,4])"
   ]
  }
 ],
 "metadata": {
  "language_info": {
   "name": "python"
  }
 },
 "nbformat": 4,
 "nbformat_minor": 2
}
