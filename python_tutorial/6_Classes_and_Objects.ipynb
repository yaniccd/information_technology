{
 "cells": [
  {
   "cell_type": "markdown",
   "metadata": {},
   "source": [
    "# Chapter 6\n",
    "# Classes and objects\n",
    "\n",
    "Important notions of this chapter\n",
    "* **Encapsulation**: A class contains data and functions that apply to that class.\n",
    "* **Heritage**: A class can be built from another class. The class is then derived from its ancestor. The new class is said to inherit from its ancestor.\n",
    "* **Composition**: Instead of heritage, you can sometimes include an instance of another class in a class.\n",
    "* **Polymorphism**: The function of a method varies according to the nature of the arguments it receives."
   ]
  },
  {
   "cell_type": "markdown",
   "metadata": {},
   "source": [
    "An object is an instance of a class. The attributes of a class are accessed by: `object.attribute`. A class is a factory for making objects.\n",
    "\n",
    "The structure of a class is the following. Classes name usually start with a captial letter.\n",
    "```python\n",
    "class <Name>(<Ancestor>):\n",
    "   var = value #class variable shared by all objects\n",
    "   def fonc1(self, ...):\n",
    "       self.membre = value #instance variable\n",
    "       ...\n",
    "   def fonc2( self, ...):\n",
    "       ...\n",
    "```\n",
    "\n",
    "`self` doesn't have to be called in every method of the class, but is necessary to acces the attributs of the class in the method."
   ]
  },
  {
   "cell_type": "markdown",
   "metadata": {},
   "source": [
    "Example of a very simple class."
   ]
  },
  {
   "cell_type": "code",
   "execution_count": 1,
   "metadata": {},
   "outputs": [],
   "source": [
    "class FirstClass:\n",
    "    def setdata(self, value):\n",
    "        self.data = value\n",
    "\n",
    "    def display(self):\n",
    "        print(self.data)"
   ]
  },
  {
   "cell_type": "markdown",
   "metadata": {},
   "source": [
    "Two objects generated from this class."
   ]
  },
  {
   "cell_type": "code",
   "execution_count": 2,
   "metadata": {},
   "outputs": [
    {
     "name": "stdout",
     "output_type": "stream",
     "text": [
      "Geai gris\n",
      "-1.1\n"
     ]
    }
   ],
   "source": [
    "x = FirstClass()\n",
    "y = FirstClass()\n",
    "\n",
    "x.setdata('Geai gris')\n",
    "y.setdata(-1.1)\n",
    "\n",
    "x.display()\n",
    "y.display()"
   ]
  },
  {
   "cell_type": "markdown",
   "metadata": {},
   "source": [
    "### Python Heritage\n",
    "Heritage classes herite from all the methods of the ancestor class. Heritage class can redefine a method.\n"
   ]
  },
  {
   "cell_type": "code",
   "execution_count": 3,
   "metadata": {},
   "outputs": [],
   "source": [
    "class SecondClass(FirstClass):\n",
    "    def display(self):\n",
    "        print(f'Object value = {self.data}')"
   ]
  },
  {
   "cell_type": "code",
   "execution_count": 4,
   "metadata": {},
   "outputs": [
    {
     "name": "stdout",
     "output_type": "stream",
     "text": [
      "Object value = My second object\n"
     ]
    }
   ],
   "source": [
    "z = SecondClass()\n",
    "\n",
    "z.setdata('My second object')\n",
    "\n",
    "z.display()"
   ]
  },
  {
   "cell_type": "markdown",
   "metadata": {},
   "source": [
    "An operator in a class takes the form `__x__`.\n",
    "\n",
    "The constructor is a method that initialise the object. It always takes the form `__init__`."
   ]
  },
  {
   "cell_type": "code",
   "execution_count": 7,
   "metadata": {},
   "outputs": [],
   "source": [
    "class ThirdClass(SecondClass):\n",
    "    def __init__(self, value):\n",
    "        self.data = value\n",
    "\n",
    "    def __add__(self,other):\n",
    "        return ThirdClass(self.data+other)\n",
    "    \n",
    "    def __str__(self):\n",
    "        return f'[ThirdClass : {self.data}]'"
   ]
  },
  {
   "cell_type": "markdown",
   "metadata": {},
   "source": [
    "The function `print()` automatically calls the `__str__` operator of the class while the addition `+` automatically calls the `__add__` operator."
   ]
  },
  {
   "cell_type": "code",
   "execution_count": 8,
   "metadata": {},
   "outputs": [
    {
     "name": "stdout",
     "output_type": "stream",
     "text": [
      "Object value = abc\n",
      "[ThirdClass : abc]\n",
      "Object value = abcxyz\n",
      "[ThirdClass : abcxyz]\n"
     ]
    }
   ],
   "source": [
    "a = ThirdClass('abc')\n",
    "print(a)\n",
    "b = a + 'xyz'\n",
    "print(b)"
   ]
  },
  {
   "cell_type": "markdown",
   "metadata": {},
   "source": [
    "The special function in Python are\n",
    "* `__add__` operator +\n",
    "* `__sub__` operator -\n",
    "* `__mul__` operator *\n",
    "* `__truediv__` operator /\n",
    "* `__lt__` operator <\n",
    "* `__gt__` opeartor >\n",
    "* `__le__` operator <=\n",
    "* `__ge__` operator >=\n",
    "* `__eq__` operator ==\n",
    "* `__ne__` opeartor !=\n",
    "* `__init__` constructor\n",
    "* `__getitem_` operator [] reading\n",
    "* `__setitem__` operator [] writting\n",
    "* `__str__` string conversion (for `print()` function)\n",
    "* `__len__` for the length (for `len()` function)\n",
    "* `__bool__` boolean conversion"
   ]
  },
  {
   "cell_type": "markdown",
   "metadata": {},
   "source": [
    "The function `super()` return the ancestor. In the following class `Tonta`, both `func1` and `func2` do the same thing."
   ]
  },
  {
   "cell_type": "code",
   "execution_count": 14,
   "metadata": {},
   "outputs": [],
   "source": [
    "class Tonto:\n",
    "    def fonc(self):\n",
    "        print('Both are the same.')\n",
    "\n",
    "class Tonta(Tonto):\n",
    "    def fonc1(self):\n",
    "        Tonto.fonc(self)\n",
    "    \n",
    "    def fonc2(self):\n",
    "        super().fonc()\n"
   ]
  },
  {
   "cell_type": "code",
   "execution_count": 15,
   "metadata": {},
   "outputs": [
    {
     "name": "stdout",
     "output_type": "stream",
     "text": [
      "Both are the same.\n",
      "Both are the same.\n"
     ]
    }
   ],
   "source": [
    "A = Tonta()\n",
    "A.fonc1()\n",
    "A.fonc2()"
   ]
  },
  {
   "cell_type": "markdown",
   "metadata": {},
   "source": [
    " A class variable is shared among all objects of the class. It is defined outside of the methods. An instance variable is unique to each objet of the class. It is defined with `self`. "
   ]
  },
  {
   "cell_type": "code",
   "execution_count": 18,
   "metadata": {},
   "outputs": [],
   "source": [
    "class Queen():\n",
    "    value = 9 #class variable\n",
    "\n",
    "    def __init__(self, value):\n",
    "        self.value = value #instance variable\n",
    "\n",
    "    def show(self):\n",
    "        print(f'The class variable is value = {Queen.value}')\n",
    "        print(f'The instance variable is value = {self.value}')"
   ]
  },
  {
   "cell_type": "code",
   "execution_count": 19,
   "metadata": {},
   "outputs": [
    {
     "name": "stdout",
     "output_type": "stream",
     "text": [
      "The class variable is value = 9\n",
      "The instance variable is value = white\n"
     ]
    }
   ],
   "source": [
    "white_queen = Queen('white')\n",
    "white_queen.show()"
   ]
  },
  {
   "cell_type": "markdown",
   "metadata": {},
   "source": [
    "A method can be called as an attribute of the object, `object.method(args,...)` or as an attribute of the class itself by passing the instance (object) as an argument, `Class.method(instance, args, ...)`. The first is preferable."
   ]
  },
  {
   "cell_type": "markdown",
   "metadata": {},
   "source": [
    "The create an iterator class, the methods `__iter__` and `__next__` have to be implemented. The following class is an iterator that returns square values. The `__iter__` method returns an iterator object (when the object is called in a loop) which as an implemented method `__next__` which is responsible for returning the next value of the iterator and raise `StopIteration` when there is no more items and the iterator is over."
   ]
  },
  {
   "cell_type": "code",
   "execution_count": 22,
   "metadata": {},
   "outputs": [],
   "source": [
    "class SeqSquare:\n",
    "    def __init__(self, start, end):\n",
    "        self.val = start-1\n",
    "        self.end = end\n",
    "\n",
    "    def __iter__(self):\n",
    "        return self\n",
    "\n",
    "    def __next__(self):\n",
    "        if self.val == self.end:\n",
    "            raise StopIteration\n",
    "        self.val += 1\n",
    "        return self.val**2"
   ]
  },
  {
   "cell_type": "code",
   "execution_count": 23,
   "metadata": {},
   "outputs": [
    {
     "name": "stdout",
     "output_type": "stream",
     "text": [
      "1 4 9 16 25 \n"
     ]
    }
   ],
   "source": [
    "for i in SeqSquare(1,5):\n",
    "    print(i, end=' ')\n",
    "print()"
   ]
  },
  {
   "cell_type": "markdown",
   "metadata": {},
   "source": [
    "We can use the method `iter` directly to obtain an iterator. In this simple case, `iter(SeqSquare(1,5))` could be replaced by simply `SeqSquare(1,5)`."
   ]
  },
  {
   "cell_type": "code",
   "execution_count": 26,
   "metadata": {},
   "outputs": [
    {
     "name": "stdout",
     "output_type": "stream",
     "text": [
      "1\n",
      "4\n"
     ]
    }
   ],
   "source": [
    "iterator = iter(SeqSquare(1,5))\n",
    "print(next(iterator))\n",
    "print(next(iterator))"
   ]
  },
  {
   "cell_type": "markdown",
   "metadata": {},
   "source": [
    "This is of course equivalent to the following generator function."
   ]
  },
  {
   "cell_type": "code",
   "execution_count": 30,
   "metadata": {},
   "outputs": [],
   "source": [
    "def generator_seq_square(start, end):\n",
    "    for i in range(start, end+1):\n",
    "        yield i**2"
   ]
  },
  {
   "cell_type": "code",
   "execution_count": 31,
   "metadata": {},
   "outputs": [
    {
     "name": "stdout",
     "output_type": "stream",
     "text": [
      "1 4 9 16 25 \n"
     ]
    }
   ],
   "source": [
    "for i in generator_seq_square(1, 5):\n",
    "    print(i, end=' ')\n",
    "print()"
   ]
  },
  {
   "cell_type": "markdown",
   "metadata": {},
   "source": [
    "A class that implements the `__call__` method can be used as a function."
   ]
  },
  {
   "cell_type": "code",
   "execution_count": 43,
   "metadata": {},
   "outputs": [],
   "source": [
    "class Addition:\n",
    "    def __call__(self, x, y):\n",
    "        print(f'{x} + {y} = {x+y}')"
   ]
  },
  {
   "cell_type": "code",
   "execution_count": 44,
   "metadata": {},
   "outputs": [
    {
     "name": "stdout",
     "output_type": "stream",
     "text": [
      "2 + 3 = 5\n"
     ]
    }
   ],
   "source": [
    "add = Addition()\n",
    "add(2,3)"
   ]
  },
  {
   "cell_type": "markdown",
   "metadata": {},
   "source": [
    "Example of heritage with a employee class from a pizeria."
   ]
  },
  {
   "cell_type": "code",
   "execution_count": 45,
   "metadata": {},
   "outputs": [
    {
     "name": "stdout",
     "output_type": "stream",
     "text": [
      "<Employe : nom=bob, salaire=50000>\n",
      "bob  prepare la pizza.\n",
      "<Employe : nom=bob, salaire=60000.0>\n",
      "\n",
      "Employe  fait des choses.\n",
      "Chef  prepare a manger.\n",
      "Serveur  sert les clients\n",
      "RobotPizza  prepare la pizza.\n"
     ]
    }
   ],
   "source": [
    "class Employe:\n",
    "    def __init__(self, nom, salaire=0):\n",
    "        self.nom = nom\n",
    "        self.salaire = salaire\n",
    "\n",
    "    def donnerAugmentation(self, pourcent):\n",
    "        self.salaire *= 1+pourcent\n",
    "\n",
    "    def travailler(self):\n",
    "        print(self.nom, ' fait des choses.')\n",
    "\n",
    "    def __str__(self):\n",
    "        return ('<Employe : nom=%s, salaire=%s>' % (self.nom, self.salaire))\n",
    "\n",
    "\n",
    "class Chef(Employe):\n",
    "    def __init__(self, nom):\n",
    "        super().__init__(nom, 50000)\n",
    "\n",
    "    def travailler(self):\n",
    "        print(self.nom, ' prepare a manger.')\n",
    "\n",
    "\n",
    "class Serveur(Employe):\n",
    "    def __init__(self, nom):\n",
    "        super().__init__(nom, 40000)\n",
    "\n",
    "    def travailler(self):\n",
    "        print(self.nom, ' sert les clients')\n",
    "\n",
    "\n",
    "class RobotPizza(Chef):\n",
    "    def __init__(self, nom):\n",
    "        super().__init__(nom)\n",
    "\n",
    "    def travailler(self):\n",
    "        print(self.nom, ' prepare la pizza.')\n",
    "\n",
    "\n",
    "if __name__ == '__main__':\n",
    "    bob = RobotPizza('bob')\n",
    "    print(bob)\n",
    "    bob.travailler()\n",
    "    bob.donnerAugmentation(0.2)\n",
    "    print(bob)\n",
    "    print()\n",
    "\n",
    "for employe in (Employe, Chef, Serveur, RobotPizza):\n",
    "    obj = employe(employe.__name__)\n",
    "    obj.travailler()"
   ]
  },
  {
   "cell_type": "markdown",
   "metadata": {},
   "source": [
    "One might want to prevent the user to modify the instance variables directly and instead use the proper class methods to do so. The double underscore `__` protects the instance variable from direct modification."
   ]
  },
  {
   "cell_type": "code",
   "execution_count": 57,
   "metadata": {},
   "outputs": [],
   "source": [
    "class NotProtected:\n",
    "    def __init__(self, value):\n",
    "        self.value = value\n",
    "\n",
    "class Protected:\n",
    "    def __init__(self, value):\n",
    "        self.__value = value\n",
    "    \n",
    "    def setValue(self, value):\n",
    "        self.__value = value\n",
    "\n",
    "    def getValue(self):\n",
    "        return self.__value\n",
    "    \n",
    "    def __str__(self):\n",
    "        return str(self.__value)"
   ]
  },
  {
   "cell_type": "code",
   "execution_count": 50,
   "metadata": {},
   "outputs": [
    {
     "name": "stdout",
     "output_type": "stream",
     "text": [
      "5\n"
     ]
    }
   ],
   "source": [
    "not_pro = NotProtected(3)\n",
    "not_pro.value = 5\n",
    "print(not_pro.value)"
   ]
  },
  {
   "cell_type": "code",
   "execution_count": 62,
   "metadata": {},
   "outputs": [
    {
     "name": "stdout",
     "output_type": "stream",
     "text": [
      "3\n",
      "5\n"
     ]
    }
   ],
   "source": [
    "pro = Protected(3)\n",
    "print(pro)\n",
    "\n",
    "pro.setValue(5)\n",
    "print(pro)"
   ]
  },
  {
   "cell_type": "markdown",
   "metadata": {},
   "source": [
    "### Composition\n",
    "\n",
    "Composition happens when an object contains another. The pizeria class doesn't herite from the employee class but contains employees."
   ]
  },
  {
   "cell_type": "code",
   "execution_count": null,
   "metadata": {},
   "outputs": [],
   "source": [
    "class Client:\n",
    "    def __init__(self, nom):\n",
    "        self.nom = nom\n",
    "\n",
    "    def passerCommande(self, serveur):\n",
    "        print(self.nom, 'passe une comande a' , serveur)\n",
    "\n",
    "    def payer(self, serveur):\n",
    "        print(self.nom, 'paye', serveur)\n",
    "\n",
    "class Four:\n",
    "    def cuire(self):\n",
    "        print('Le four cuit.')\n",
    "\n",
    "class Pizzeria:\n",
    "    def __init__(self):\n",
    "        self.serveur = Serveur('Edouard')\n",
    "        self.chef = RobotPizza('Bob')\n",
    "        self.four = Four()\n",
    "\n",
    "    def commander(self, nom):\n",
    "        client = Client(nom)\n",
    "        client.passerCommande(self.serveur)\n",
    "        self.chef.travailler()\n",
    "        self.four.cuire()\n",
    "        client.payer(self.serveur)\n",
    "\n",
    "if __name__ == '__main__':\n",
    "    restaurant = Pizzeria()\n",
    "    restaurant.commander('Gerard')\n",
    "    print('...')\n",
    "    restaurant.commander('John')"
   ]
  },
  {
   "cell_type": "markdown",
   "metadata": {},
   "source": [
    "### Polymorphism\n",
    "\n",
    "The function of a method varies according to the nature of the arguments it receives."
   ]
  },
  {
   "cell_type": "code",
   "execution_count": 64,
   "metadata": {},
   "outputs": [],
   "source": [
    "class Polymorphism:\n",
    "    def __init__(self, value):\n",
    "        self.__value = value\n",
    "\n",
    "    def getValue(self):\n",
    "        return self.__value\n",
    "    \n",
    "    def __add__(self, other):\n",
    "        return Polymorphism(self.__value + other.getValue())\n",
    "    \n",
    "    def __str__(self):\n",
    "        return str(self.__value)\n"
   ]
  },
  {
   "cell_type": "code",
   "execution_count": 67,
   "metadata": {},
   "outputs": [
    {
     "name": "stdout",
     "output_type": "stream",
     "text": [
      "5\n",
      "gato\n",
      "[1, 2, 3, 4, 5, 6]\n"
     ]
    }
   ],
   "source": [
    "x = Polymorphism(2)\n",
    "y = Polymorphism(3)\n",
    "z = x + y\n",
    "print(z)\n",
    "\n",
    "x = Polymorphism('ga')\n",
    "y = Polymorphism('to')\n",
    "z = x+y\n",
    "print(z)\n",
    "\n",
    "x = Polymorphism([1,2,3])\n",
    "y = Polymorphism([4,5,6])\n",
    "z = x+y\n",
    "print(z)"
   ]
  }
 ],
 "metadata": {
  "kernelspec": {
   "display_name": "base",
   "language": "python",
   "name": "python3"
  },
  "language_info": {
   "codemirror_mode": {
    "name": "ipython",
    "version": 3
   },
   "file_extension": ".py",
   "mimetype": "text/x-python",
   "name": "python",
   "nbconvert_exporter": "python",
   "pygments_lexer": "ipython3",
   "version": "3.11.5"
  }
 },
 "nbformat": 4,
 "nbformat_minor": 2
}
