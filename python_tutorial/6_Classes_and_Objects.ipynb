{
 "cells": [
  {
   "cell_type": "markdown",
   "metadata": {},
   "source": [
    "# Chapter 6\n",
    "# Classes and objects\n",
    "\n",
    "Important notions of this chapter\n",
    "* **Encapsulation**: A class contains data and functions that apply to that class.\n",
    "* **Heritage**: A class can be built from another class. The class is then derived from its ancestor. The new class is said to inherit from its ancestor.\n",
    "* **Composition**: Instead of heritage, you can sometimes include an instance of another class in a class.\n",
    "* **Polymorphism**: The function of a method varies according to the nature of the arguments it receives.\n",
    "\n",
    "An object is an instance of a class. The attributes of a class are accessed by: `object.attribute`. A class is a factory for making objects.\n",
    "\n",
    "The structure of a class is the following. Classes name usually start with a captial letter.\n",
    "```python\n",
    "class <Name>(<Ancestor>):\n",
    "   var = value #class variable shared by all objects\n",
    "   def fonc1(self, ...):\n",
    "       self.membre = value #instance variable\n",
    "       ...\n",
    "   def fonc2( self, ...):\n",
    "       ...\n",
    "```\n",
    "\n",
    "`self` doesn't have to be called in every method of the class, but is necessary to acces the attributs of the class in the method."
   ]
  },
  {
   "cell_type": "markdown",
   "metadata": {},
   "source": [
    "Example of a very simple class."
   ]
  },
  {
   "cell_type": "code",
   "execution_count": 1,
   "metadata": {},
   "outputs": [],
   "source": [
    "class FirstClass:\n",
    "    def setdata(self, value):\n",
    "        self.data = value\n",
    "\n",
    "    def display(self):\n",
    "        print(self.data)"
   ]
  },
  {
   "cell_type": "markdown",
   "metadata": {},
   "source": [
    "Two objects generated from this class."
   ]
  },
  {
   "cell_type": "code",
   "execution_count": 2,
   "metadata": {},
   "outputs": [
    {
     "name": "stdout",
     "output_type": "stream",
     "text": [
      "Geai gris\n",
      "-1.1\n"
     ]
    }
   ],
   "source": [
    "x = FirstClass()\n",
    "y = FirstClass()\n",
    "\n",
    "x.setdata('Geai gris')\n",
    "y.setdata(-1.1)\n",
    "\n",
    "x.display()\n",
    "y.display()"
   ]
  },
  {
   "cell_type": "markdown",
   "metadata": {},
   "source": [
    "### Python Heritage\n",
    "Heritage classes herite from all the methods of the ancestor class. Heritage class can redefine a method.\n"
   ]
  },
  {
   "cell_type": "code",
   "execution_count": 3,
   "metadata": {},
   "outputs": [],
   "source": [
    "class SecondClass(FirstClass):\n",
    "    def display(self):\n",
    "        print(f'Object value = {self.data}')"
   ]
  },
  {
   "cell_type": "code",
   "execution_count": 4,
   "metadata": {},
   "outputs": [
    {
     "name": "stdout",
     "output_type": "stream",
     "text": [
      "Object value = My second object\n"
     ]
    }
   ],
   "source": [
    "z = SecondClass()\n",
    "\n",
    "z.setdata('My second object')\n",
    "\n",
    "z.display()"
   ]
  },
  {
   "cell_type": "markdown",
   "metadata": {},
   "source": [
    "An operator in a class takes the form `__x__`.\n",
    "\n",
    "The constructor is a method that initialise the object. It always takes the form `__init__`."
   ]
  },
  {
   "cell_type": "code",
   "execution_count": 7,
   "metadata": {},
   "outputs": [],
   "source": [
    "class ThirdClass(SecondClass):\n",
    "    def __init__(self, value):\n",
    "        self.data = value\n",
    "\n",
    "    def __add__(self,other):\n",
    "        return ThirdClass(self.data+other)\n",
    "    \n",
    "    def __str__(self):\n",
    "        return f'[ThirdClass : {self.data}]'"
   ]
  },
  {
   "cell_type": "markdown",
   "metadata": {},
   "source": [
    "The function `print()` automatically calls the `__str__` operator of the class while the addition `+` automatically calls the `__add__` operator."
   ]
  },
  {
   "cell_type": "code",
   "execution_count": 8,
   "metadata": {},
   "outputs": [
    {
     "name": "stdout",
     "output_type": "stream",
     "text": [
      "Object value = abc\n",
      "[ThirdClass : abc]\n",
      "Object value = abcxyz\n",
      "[ThirdClass : abcxyz]\n"
     ]
    }
   ],
   "source": [
    "a = ThirdClass('abc')\n",
    "print(a)\n",
    "b = a + 'xyz'\n",
    "print(b)"
   ]
  },
  {
   "cell_type": "markdown",
   "metadata": {},
   "source": [
    "The special function in Python are\n",
    "* `__add__` operator +\n",
    "* `__sub__` operator -\n",
    "* `__mul__` operator *\n",
    "* `__truediv__` operator /\n",
    "* `__lt__` operator <\n",
    "* `__gt__` opeartor >\n",
    "* `__le__` operator <=\n",
    "* `__ge__` operator >=\n",
    "* `__eq__` operator ==\n",
    "* `__ne__` opeartor !=\n",
    "* `__init__` constructor\n",
    "* `__getitem_` operator [] reading\n",
    "* `__setitem__` operator [] writting\n",
    "* `__str__` string conversion (for `print()` function)\n",
    "* `__len__` for the length (for `len()` function)\n",
    "* `__bool__` boolean conversion"
   ]
  },
  {
   "cell_type": "markdown",
   "metadata": {},
   "source": [
    "The function `super()` return the ancestor. In the following class `Tonta`, both `func1` and `func2` do the same thing."
   ]
  },
  {
   "cell_type": "code",
   "execution_count": 14,
   "metadata": {},
   "outputs": [],
   "source": [
    "class Tonto:\n",
    "    def fonc(self):\n",
    "        print('Both are the same.')\n",
    "\n",
    "class Tonta(Tonto):\n",
    "    def fonc1(self):\n",
    "        Tonto.fonc(self)\n",
    "    \n",
    "    def fonc2(self):\n",
    "        super().fonc()\n"
   ]
  },
  {
   "cell_type": "code",
   "execution_count": 15,
   "metadata": {},
   "outputs": [
    {
     "name": "stdout",
     "output_type": "stream",
     "text": [
      "Both are the same.\n",
      "Both are the same.\n"
     ]
    }
   ],
   "source": [
    "A = Tonta()\n",
    "A.fonc1()\n",
    "A.fonc2()"
   ]
  },
  {
   "cell_type": "markdown",
   "metadata": {},
   "source": [
    " A class variable is shared among all objects of the class. It is defined outside of the methods. An instance variable is unique to each objet of the class. It is defined with `self`. "
   ]
  },
  {
   "cell_type": "code",
   "execution_count": 18,
   "metadata": {},
   "outputs": [],
   "source": [
    "class Queen():\n",
    "    value = 9 #class variable\n",
    "\n",
    "    def __init__(self, value):\n",
    "        self.value = value #instance variable\n",
    "\n",
    "    def show(self):\n",
    "        print(f'The class variable is value = {Queen.value}')\n",
    "        print(f'The instance variable is value = {self.value}')"
   ]
  },
  {
   "cell_type": "code",
   "execution_count": 19,
   "metadata": {},
   "outputs": [
    {
     "name": "stdout",
     "output_type": "stream",
     "text": [
      "The class variable is value = 9\n",
      "The instance variable is value = white\n"
     ]
    }
   ],
   "source": [
    "white_queen = Queen('white')\n",
    "white_queen.show()"
   ]
  },
  {
   "cell_type": "markdown",
   "metadata": {},
   "source": [
    "A method can be called as an attribute of the object, `object.method(args,...)` or as an attribute of the class itself by passing the instance (object) as an argument, `Class.method(instance, args, ...)`. The first is preferable."
   ]
  },
  {
   "cell_type": "markdown",
   "metadata": {},
   "source": [
    "The create an iterator class, the methods `__iter__` and `__next__` have to be implemented. The following class is an iterator that returns square values. The `__iter__` method returns an iterator object (when the object is called in a loop) which as an implemented method `__next__` which is responsible for returning the next value of the iterator and raise `StopIteration` when there is no more items and the iterator is over."
   ]
  },
  {
   "cell_type": "code",
   "execution_count": 22,
   "metadata": {},
   "outputs": [],
   "source": [
    "class SeqSquare:\n",
    "    def __init__(self, start, end):\n",
    "        self.val = start-1\n",
    "        self.end = end\n",
    "\n",
    "    def __iter__(self):\n",
    "        return self\n",
    "\n",
    "    def __next__(self):\n",
    "        if self.val == self.end:\n",
    "            raise StopIteration\n",
    "        self.val += 1\n",
    "        return self.val**2"
   ]
  },
  {
   "cell_type": "code",
   "execution_count": 23,
   "metadata": {},
   "outputs": [
    {
     "name": "stdout",
     "output_type": "stream",
     "text": [
      "1 4 9 16 25 \n"
     ]
    }
   ],
   "source": [
    "for i in SeqSquare(1,5):\n",
    "    print(i, end=' ')\n",
    "print()"
   ]
  },
  {
   "cell_type": "markdown",
   "metadata": {},
   "source": [
    "We can use the method `iter` directly to obtain an iterator. In this simple case, `iter(SeqSquare(1,5))` could be replaced by simply `SeqSquare(1,5)`."
   ]
  },
  {
   "cell_type": "code",
   "execution_count": 26,
   "metadata": {},
   "outputs": [
    {
     "name": "stdout",
     "output_type": "stream",
     "text": [
      "1\n",
      "4\n"
     ]
    }
   ],
   "source": [
    "iterator = iter(SeqSquare(1,5))\n",
    "print(next(iterator))\n",
    "print(next(iterator))"
   ]
  },
  {
   "cell_type": "markdown",
   "metadata": {},
   "source": [
    "This is of course equivalent to the following generator function."
   ]
  },
  {
   "cell_type": "code",
   "execution_count": 30,
   "metadata": {},
   "outputs": [],
   "source": [
    "def generator_seq_square(start, end):\n",
    "    for i in range(start, end+1):\n",
    "        yield i**2"
   ]
  },
  {
   "cell_type": "code",
   "execution_count": 31,
   "metadata": {},
   "outputs": [
    {
     "name": "stdout",
     "output_type": "stream",
     "text": [
      "1 4 9 16 25 \n"
     ]
    }
   ],
   "source": [
    "for i in generator_seq_square(1, 5):\n",
    "    print(i, end=' ')\n",
    "print()"
   ]
  },
  {
   "cell_type": "markdown",
   "metadata": {},
   "source": [
    "A class that implements the `__call__` method can be used as a function."
   ]
  },
  {
   "cell_type": "code",
   "execution_count": null,
   "metadata": {},
   "outputs": [],
   "source": []
  },
  {
   "cell_type": "markdown",
   "metadata": {},
   "source": [
    "### Composition"
   ]
  },
  {
   "cell_type": "markdown",
   "metadata": {},
   "source": [
    "### Polymorphism"
   ]
  }
 ],
 "metadata": {
  "kernelspec": {
   "display_name": "base",
   "language": "python",
   "name": "python3"
  },
  "language_info": {
   "codemirror_mode": {
    "name": "ipython",
    "version": 3
   },
   "file_extension": ".py",
   "mimetype": "text/x-python",
   "name": "python",
   "nbconvert_exporter": "python",
   "pygments_lexer": "ipython3",
   "version": "3.8.0"
  }
 },
 "nbformat": 4,
 "nbformat_minor": 2
}
