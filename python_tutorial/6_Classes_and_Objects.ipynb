{
 "cells": [
  {
   "cell_type": "markdown",
   "metadata": {},
   "source": [
    "# Chapter 6\n",
    "# Classes and objects\n",
    "\n",
    "Important notions of this chapter\n",
    "* **Encapsulation**: A class contains data and functions that apply to that class.\n",
    "* **Heritage**: A class can be built from another class. The class is then derived from its ancestor. The new class is said to inherit from its ancestor.\n",
    "* **Composition**: Instead of heritage, you can sometimes include an instance of another class in a class.\n",
    "* **Polymorphism**: The function of a method varies according to the nature of the arguments it receives.\n",
    "\n",
    "An object is an instance of a class. The attributes of a class are accessed by: `object.attribute`. A class is a factory for making objects.\n",
    "\n",
    "The structure of a class is the following. Classes name usually start with a captial letter.\n",
    "```python\n",
    "class <Name>(<Ancestor>):\n",
    "   var = value #class variable shared by all objects\n",
    "   def fonc1(self, ...):\n",
    "       self.membre = value #instance variable\n",
    "       ...\n",
    "   def fonc2( self, ...):\n",
    "       ...\n",
    "```\n",
    "\n",
    "`self` doesn't have to be called in every method of the class, but is necessary to acces the attributs of the class in the method."
   ]
  },
  {
   "cell_type": "markdown",
   "metadata": {},
   "source": [
    "Example of a very simple class."
   ]
  },
  {
   "cell_type": "code",
   "execution_count": 1,
   "metadata": {},
   "outputs": [],
   "source": [
    "class FirstClass:\n",
    "    def setdata(self, value):\n",
    "        self.data = value\n",
    "\n",
    "    def display(self):\n",
    "        print(self.data)"
   ]
  },
  {
   "cell_type": "markdown",
   "metadata": {},
   "source": [
    "Two objects generated from this class."
   ]
  },
  {
   "cell_type": "code",
   "execution_count": 2,
   "metadata": {},
   "outputs": [
    {
     "name": "stdout",
     "output_type": "stream",
     "text": [
      "Geai gris\n",
      "-1.1\n"
     ]
    }
   ],
   "source": [
    "x = FirstClass()\n",
    "y = FirstClass()\n",
    "\n",
    "x.setdata('Geai gris')\n",
    "y.setdata(-1.1)\n",
    "\n",
    "x.display()\n",
    "y.display()"
   ]
  },
  {
   "cell_type": "markdown",
   "metadata": {},
   "source": [
    "### Python Heritage\n",
    "Heritage classes herite from all the methods of the ancestor class. Heritage class can redefine a method.\n"
   ]
  },
  {
   "cell_type": "code",
   "execution_count": 3,
   "metadata": {},
   "outputs": [],
   "source": [
    "class SecondClass(FirstClass):\n",
    "    def display(self):\n",
    "        print(f'Object value = {self.data}')"
   ]
  },
  {
   "cell_type": "code",
   "execution_count": 4,
   "metadata": {},
   "outputs": [
    {
     "name": "stdout",
     "output_type": "stream",
     "text": [
      "Object value = My second object\n"
     ]
    }
   ],
   "source": [
    "z = SecondClass()\n",
    "\n",
    "z.setdata('My second object')\n",
    "\n",
    "z.display()"
   ]
  },
  {
   "cell_type": "markdown",
   "metadata": {},
   "source": [
    "An operator in a class takes the form `__x__`.\n",
    "\n",
    "The constructor is a method that initialise the object. It always takes the form `__init__`."
   ]
  },
  {
   "cell_type": "code",
   "execution_count": 7,
   "metadata": {},
   "outputs": [],
   "source": [
    "class ThirdClass(SecondClass):\n",
    "    def __init__(self, value):\n",
    "        self.data = value\n",
    "\n",
    "    def __add__(self,other):\n",
    "        return ThirdClass(self.data+other)\n",
    "    \n",
    "    def __str__(self):\n",
    "        return f'[ThirdClass : {self.data}]'"
   ]
  },
  {
   "cell_type": "markdown",
   "metadata": {},
   "source": [
    "The function `print()` automatically calls the `__str__` operator of the class while the addition `+` automatically calls the `__add__` operator."
   ]
  },
  {
   "cell_type": "code",
   "execution_count": 8,
   "metadata": {},
   "outputs": [
    {
     "name": "stdout",
     "output_type": "stream",
     "text": [
      "Object value = abc\n",
      "[ThirdClass : abc]\n",
      "Object value = abcxyz\n",
      "[ThirdClass : abcxyz]\n"
     ]
    }
   ],
   "source": [
    "a = ThirdClass('abc')\n",
    "print(a)\n",
    "b = a + 'xyz'\n",
    "print(b)"
   ]
  },
  {
   "cell_type": "markdown",
   "metadata": {},
   "source": [
    "### Composition"
   ]
  },
  {
   "cell_type": "markdown",
   "metadata": {},
   "source": [
    "### Polymorphism"
   ]
  }
 ],
 "metadata": {
  "kernelspec": {
   "display_name": "base",
   "language": "python",
   "name": "python3"
  },
  "language_info": {
   "codemirror_mode": {
    "name": "ipython",
    "version": 3
   },
   "file_extension": ".py",
   "mimetype": "text/x-python",
   "name": "python",
   "nbconvert_exporter": "python",
   "pygments_lexer": "ipython3",
   "version": "3.8.0"
  }
 },
 "nbformat": 4,
 "nbformat_minor": 2
}
