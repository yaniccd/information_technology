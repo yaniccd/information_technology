{
 "cells": [
  {
   "cell_type": "markdown",
   "metadata": {},
   "source": [
    "# Chapter 6\n",
    "# Classes and objects\n",
    "\n",
    "Important notions of this chapter\n",
    "* **Encapsulation** : A class contains data and functions that apply to that class.\n",
    "* **Heritage**: A class can be built from another class. The class is then derived from its ancestor. The new class is said to inherit from its ancestor.\n",
    "* **Composition**: Instead of heritage, you can sometimes include an instance of another class in a class.\n",
    "* **Polymorphism**: The function of a method varies according to the nature of the arguments it receives."
   ]
  },
  {
   "cell_type": "code",
   "execution_count": null,
   "metadata": {},
   "outputs": [],
   "source": []
  },
  {
   "cell_type": "code",
   "execution_count": null,
   "metadata": {},
   "outputs": [],
   "source": []
  }
 ],
 "metadata": {
  "language_info": {
   "name": "python"
  }
 },
 "nbformat": 4,
 "nbformat_minor": 2
}
