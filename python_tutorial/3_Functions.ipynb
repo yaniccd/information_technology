{
 "cells": [
  {
   "cell_type": "markdown",
   "metadata": {},
   "source": [
    "# Chapter 3\n",
    "# Functions\n",
    "\n",
    "Important notions of this chapter\n",
    "* **Functions**: A function is a block of reusable code designed to perform a specific task. Functions provide modularity to the code, making it easier to understand, maintain, and reuse.\n",
    "* **Arguments**: function arguments are the values that you pass to a function when calling it. Functions can have parameters, which act as placeholders for these arguments. Parameters are specified in the function definition, and arguments are the actual values or variables that are passed into the function.\n",
    "* **Conditional statements**  Allow to control the flow of the program based on certain conditions. They enable decision making and execute different code blocks depending on whether a specified condition evaluates to `True` or `False`."
   ]
  },
  {
   "cell_type": "markdown",
   "metadata": {},
   "source": [
    "### Functions\n",
    "\n",
    "In Python, indentation is used to indicate the block of code within a function, loop, conditional statement, or any other code block. Unlike many other programming languages that use braces `{}` to define code blocks, Python relies on indentation to determine the grouping of statements.\n",
    "\n",
    "For functions specifically, indentation is crucial to defining the body of the function. The code inside a function must be indented consistently to signify that it belongs to that function.\n",
    "\n",
    "In Python, you can define your functions using the `def` keyword."
   ]
  },
  {
   "cell_type": "code",
   "execution_count": 2,
   "metadata": {},
   "outputs": [
    {
     "name": "stdout",
     "output_type": "stream",
     "text": [
      "This is outside the function.\n"
     ]
    }
   ],
   "source": [
    "def my_first_function():\n",
    "    print(\"This is part of the function.\")\n",
    "    print(\"So is this.\")\n",
    "    print(\"And this.\")\n",
    "\n",
    "# Outside the function, no indentation is used\n",
    "print(\"This is outside the function.\")"
   ]
  },
  {
   "cell_type": "markdown",
   "metadata": {},
   "source": [
    "To call the function :"
   ]
  },
  {
   "cell_type": "code",
   "execution_count": 3,
   "metadata": {},
   "outputs": [
    {
     "name": "stdout",
     "output_type": "stream",
     "text": [
      "This is part of the function.\n",
      "So is this.\n",
      "And this.\n"
     ]
    }
   ],
   "source": [
    "my_first_function()"
   ]
  },
  {
   "cell_type": "markdown",
   "metadata": {},
   "source": [
    "In Python, the `return` statement is used to exit a function and return a value to the caller. When a function is called, and the return statement is encountered, the function execution stops, and the specified value (if any) is sent back to the calling code. By default, a function without a return statement doesn't return anything. This can be made explicit by having a return statement with `None`. \n",
    "\n",
    "Keywords, in Python are special words that are part of the language syntax. `None` and `return` are among those keywords meaning that a variable cannot be called None or return."
   ]
  },
  {
   "cell_type": "code",
   "execution_count": 5,
   "metadata": {},
   "outputs": [],
   "source": [
    "def my_second_function():\n",
    "    print(\"This is my second function.\")\n",
    "    return None"
   ]
  },
  {
   "cell_type": "code",
   "execution_count": 6,
   "metadata": {},
   "outputs": [
    {
     "name": "stdout",
     "output_type": "stream",
     "text": [
      "This is my second function.\n"
     ]
    }
   ],
   "source": [
    "my_second_function()"
   ]
  },
  {
   "cell_type": "markdown",
   "metadata": {},
   "source": [
    "The three qualities of a function :\n",
    "\n",
    "* **coherence** It executes a single task.\n",
    "\n",
    "* **independence** The result depends only of the function's arguments and not of the global variables.\n",
    "\n",
    "* **conciseness** If the function is too long, it is probably because it should be split into sub functions."
   ]
  },
  {
   "cell_type": "markdown",
   "metadata": {},
   "source": [
    "In the following, `x` and `y` are the arguments of the function. Function arguments are the values that you pass to a function when calling it."
   ]
  },
  {
   "cell_type": "code",
   "execution_count": 8,
   "metadata": {},
   "outputs": [],
   "source": [
    "def power(base, exponent):\n",
    "    return base**exponent"
   ]
  },
  {
   "cell_type": "code",
   "execution_count": 10,
   "metadata": {},
   "outputs": [
    {
     "name": "stdout",
     "output_type": "stream",
     "text": [
      "2 to the power 3 is 8\n",
      "5 to the power 2 is 25\n"
     ]
    }
   ],
   "source": [
    "x = power(2,3)\n",
    "y = power(5, 2)\n",
    "\n",
    "print(f'2 to the power 3 is {x}')\n",
    "print(f'5 to the power 2 is {y}')"
   ]
  },
  {
   "cell_type": "markdown",
   "metadata": {},
   "source": [
    "The following `product` function is polymorphe meaning that it as different outcomes depending on the nature of the input."
   ]
  },
  {
   "cell_type": "code",
   "execution_count": 11,
   "metadata": {},
   "outputs": [],
   "source": [
    "def product(arg_1, arg_2):\n",
    "    return arg_1*arg_2"
   ]
  },
  {
   "cell_type": "code",
   "execution_count": 15,
   "metadata": {},
   "outputs": [
    {
     "name": "stdout",
     "output_type": "stream",
     "text": [
      "15\n",
      "[1, 2, 1, 2]\n",
      "test test \n"
     ]
    }
   ],
   "source": [
    "print(product(3,5))\n",
    "print(product(2,[1,2]))\n",
    "print(product(2,'test '))"
   ]
  },
  {
   "cell_type": "markdown",
   "metadata": {},
   "source": [
    "The function naming convention is what is usually called `snake_case` convention; the name is in lower case seperated by underscore. The name should be meaningful that conveys the purpose of the function. Function names are often composed of a verb and a noun, indicating an action and the target of that action.\n",
    "\n",
    "We will see later that `classes` in Python use the `CamelCase` convetion; words starts with capital letters without spacing in between words."
   ]
  },
  {
   "cell_type": "markdown",
   "metadata": {},
   "source": [
    "Global variables are defined outside functions while local variables are defined within them. Within the function, local variables have priority over a global variable of the same name. The following example shows the reach of global and local variables.\n",
    "\n",
    "The first function is not best practice according to the indenpence principale."
   ]
  },
  {
   "cell_type": "code",
   "execution_count": 18,
   "metadata": {},
   "outputs": [
    {
     "name": "stdout",
     "output_type": "stream",
     "text": [
      "Product of 3 with the global variable x = 3,\n",
      " x*y = 9\n",
      "Product of 3 with the local variable x = 2,\n",
      " x*y = 6\n"
     ]
    }
   ],
   "source": [
    "x = 3 #this is a global variable\n",
    "\n",
    "#this first function uses the \n",
    "def product_global(y):\n",
    "    return x*y\n",
    "\n",
    "def product_local(y):\n",
    "    x = 2\n",
    "    return x*y\n",
    "\n",
    "y = 4\n",
    "print(f'Product of 3 with the global variable x = 3,\\n x*y = {product_global(3)}')\n",
    "print(f'Product of 3 with the local variable x = 2,\\n x*y = {product_local(3)}')\n"
   ]
  },
  {
   "cell_type": "markdown",
   "metadata": {},
   "source": [
    "Functions are actually objects (concept seen later) that mean they can\n",
    "* be assigned to variables\n",
    "* passed as an argument to another function\n",
    "* return by a function (high-order function)"
   ]
  },
  {
   "cell_type": "code",
   "execution_count": 19,
   "metadata": {},
   "outputs": [
    {
     "data": {
      "text/plain": [
       "6"
      ]
     },
     "execution_count": 19,
     "metadata": {},
     "output_type": "execute_result"
    }
   ],
   "source": [
    "def product(arg_1, arg_2):\n",
    "    return arg_1*arg_2\n",
    "\n",
    "variable = product\n",
    "\n",
    "variable(2,3)"
   ]
  },
  {
   "cell_type": "code",
   "execution_count": 20,
   "metadata": {},
   "outputs": [
    {
     "name": "stdout",
     "output_type": "stream",
     "text": [
      "The square of 3 is 9\n",
      "The cube of 3 is 27\n"
     ]
    }
   ],
   "source": [
    "def power_generator(n):\n",
    "    def power(x):\n",
    "        return x**n\n",
    "    return power\n",
    "\n",
    "square = power_generator(2)\n",
    "cube = power_generator(3)\n",
    "\n",
    "print(f'The square of 3 is {square(3)}')\n",
    "print(f'The cube of 3 is {cube(3)}')"
   ]
  },
  {
   "cell_type": "markdown",
   "metadata": {},
   "source": [
    "By default, arguments are affected in terms of their position, but the can also be named explicitly."
   ]
  },
  {
   "cell_type": "code",
   "execution_count": 21,
   "metadata": {},
   "outputs": [
    {
     "name": "stdout",
     "output_type": "stream",
     "text": [
      "2 to the power 3 is 8\n",
      "3 to the power 2 is 9\n"
     ]
    }
   ],
   "source": [
    "def power(base, exponent):\n",
    "    return base**exponent\n",
    "\n",
    "x = power(2,3)\n",
    "y = power(exponent=2, base=3)\n",
    "\n",
    "print(f'2 to the power 3 is {x}')\n",
    "print(f'3 to the power 2 is {y}')"
   ]
  },
  {
   "cell_type": "markdown",
   "metadata": {},
   "source": [
    "Function's parameters can have default values."
   ]
  },
  {
   "cell_type": "code",
   "execution_count": 22,
   "metadata": {},
   "outputs": [
    {
     "data": {
      "text/plain": [
       "9"
      ]
     },
     "execution_count": 22,
     "metadata": {},
     "output_type": "execute_result"
    }
   ],
   "source": [
    "def power(base, exponent = 2):\n",
    "    return base**exponent\n",
    "\n",
    "power(3)"
   ]
  }
 ],
 "metadata": {
  "kernelspec": {
   "display_name": "thewalrus",
   "language": "python",
   "name": "python3"
  },
  "language_info": {
   "codemirror_mode": {
    "name": "ipython",
    "version": 3
   },
   "file_extension": ".py",
   "mimetype": "text/x-python",
   "name": "python",
   "nbconvert_exporter": "python",
   "pygments_lexer": "ipython3",
   "version": "3.8.0"
  }
 },
 "nbformat": 4,
 "nbformat_minor": 2
}
