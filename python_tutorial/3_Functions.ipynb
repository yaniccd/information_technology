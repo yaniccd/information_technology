{
 "cells": [
  {
   "cell_type": "markdown",
   "metadata": {},
   "source": [
    "# Chapter 3\n",
    "# Functions\n",
    "\n",
    "Important notions of this chapter\n",
    "* **Functions**: A function is a block of reusable code designed to perform a specific task. Functions provide modularity to the code, making it easier to understand, maintain, and reuse.\n",
    "* **Arguments**: function arguments are the values that you pass to a function when calling it. Functions can have parameters, which act as placeholders for these arguments. Parameters are specified in the function definition, and arguments are the actual values or variables that are passed into the function.\n",
    "* **Boolean**: In Python, the Boolean type is a built-in data type that represents the two truth values: `True` and `False`. Booleans are often used in conditional expressions and logical operations to make decisions and control the flow of a program.\n",
    "* **Conditional statements**  Allow to control the flow of the program based on certain conditions. They enable decision making and execute different code blocks depending on whether a specified condition evaluates to `True` or `False`."
   ]
  },
  {
   "cell_type": "markdown",
   "metadata": {},
   "source": [
    "### Functions\n",
    "\n",
    "In Python, indentation is used to indicate the block of code within a function, loop, conditional statement, or any other code block. Unlike many other programming languages that use braces `{}` to define code blocks, Python relies on indentation to determine the grouping of statements.\n",
    "\n",
    "For functions specifically, indentation is crucial to defining the body of the function. The code inside a function must be indented consistently to signify that it belongs to that function.\n",
    "\n",
    "In Python, you can define your functions using the `def` keyword."
   ]
  },
  {
   "cell_type": "code",
   "execution_count": 2,
   "metadata": {},
   "outputs": [
    {
     "name": "stdout",
     "output_type": "stream",
     "text": [
      "This is outside the function.\n"
     ]
    }
   ],
   "source": [
    "def my_first_function():\n",
    "    print(\"This is part of the function.\")\n",
    "    print(\"So is this.\")\n",
    "    print(\"And this.\")\n",
    "\n",
    "# Outside the function, no indentation is used\n",
    "print(\"This is outside the function.\")"
   ]
  },
  {
   "cell_type": "markdown",
   "metadata": {},
   "source": [
    "To call the function :"
   ]
  },
  {
   "cell_type": "code",
   "execution_count": 3,
   "metadata": {},
   "outputs": [
    {
     "name": "stdout",
     "output_type": "stream",
     "text": [
      "This is part of the function.\n",
      "So is this.\n",
      "And this.\n"
     ]
    }
   ],
   "source": [
    "my_first_function()"
   ]
  },
  {
   "cell_type": "markdown",
   "metadata": {},
   "source": [
    "In Python, the `return` statement is used to exit a function and return a value to the caller. When a function is called, and the return statement is encountered, the function execution stops, and the specified value (if any) is sent back to the calling code. By default, a function without a return statement doesn't return anything. This can be made explicit by having a return statement with `None`. \n",
    "\n",
    "Keywords, in Python are special words that are part of the language syntax. `None` and `return` are among those keywords meaning that a variable cannot be called None or return."
   ]
  },
  {
   "cell_type": "code",
   "execution_count": 5,
   "metadata": {},
   "outputs": [],
   "source": [
    "def my_second_function():\n",
    "    print(\"This is my second function.\")\n",
    "    return None"
   ]
  },
  {
   "cell_type": "code",
   "execution_count": 6,
   "metadata": {},
   "outputs": [
    {
     "name": "stdout",
     "output_type": "stream",
     "text": [
      "This is my second function.\n"
     ]
    }
   ],
   "source": [
    "my_second_function()"
   ]
  },
  {
   "cell_type": "markdown",
   "metadata": {},
   "source": [
    "The three qualities of a function :\n",
    "\n",
    "* **coherence** It executes a single task.\n",
    "\n",
    "* **independence** The result depends only of the function's arguments and not of the global variables.\n",
    "\n",
    "* **conciseness** If the function is too long, it is probably because it should be split into sub functions."
   ]
  },
  {
   "cell_type": "markdown",
   "metadata": {},
   "source": [
    "In the following, `x` and `y` are the arguments of the function. Function arguments are the values that you pass to a function when calling it."
   ]
  },
  {
   "cell_type": "code",
   "execution_count": 8,
   "metadata": {},
   "outputs": [],
   "source": [
    "def power_function(base, exponent):\n",
    "    return base**exponent"
   ]
  },
  {
   "cell_type": "code",
   "execution_count": 10,
   "metadata": {},
   "outputs": [
    {
     "name": "stdout",
     "output_type": "stream",
     "text": [
      "2 to the power 3 is 8\n",
      "5 to the power 2 is 25\n"
     ]
    }
   ],
   "source": [
    "x = power_function(2,3)\n",
    "y = power_function(5, 2)\n",
    "\n",
    "print(f'2 to the power 3 is {x}')\n",
    "print(f'5 to the power 2 is {y}')"
   ]
  },
  {
   "cell_type": "markdown",
   "metadata": {},
   "source": [
    "The function naming convention is what is usually called `snake_case` convention; the name is in lower case seperated by underscore. The name should be meaningful that conveys the purpose of the function. Function names are often composed of a verb and a noun, indicating an action and the target of that action.\n",
    "\n",
    "We will see later that `classes` in Python use the `CamelCase` convetion; words starts with capital letters without spacing in between words."
   ]
  },
  {
   "cell_type": "markdown",
   "metadata": {},
   "source": [
    "A function is an object????"
   ]
  }
 ],
 "metadata": {
  "kernelspec": {
   "display_name": "thewalrus",
   "language": "python",
   "name": "python3"
  },
  "language_info": {
   "codemirror_mode": {
    "name": "ipython",
    "version": 3
   },
   "file_extension": ".py",
   "mimetype": "text/x-python",
   "name": "python",
   "nbconvert_exporter": "python",
   "pygments_lexer": "ipython3",
   "version": "3.8.0"
  }
 },
 "nbformat": 4,
 "nbformat_minor": 2
}
