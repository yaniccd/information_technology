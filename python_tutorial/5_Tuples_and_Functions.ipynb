{
 "cells": [
  {
   "cell_type": "markdown",
   "metadata": {},
   "source": [
    "# Chapter 5\n",
    "# Tuples and and function\n",
    "\n",
    "Important notions of this chapter\n",
    "* **Tuples**: a tuple is an immutable collection data type.\n",
    "* **Starred Arguments**: In a function definition, a single asterisk `*` is used to indicate that the function can accept any number of positional arguments (i.e., a variable number of arguments).\n",
    "* **Double-starred Arguements**: Double-starred `**` arguments are used to pass a variable number of keyword arguments to a function.\n",
    "* **Lamdbda Functions**: A lambda function is a small anonymous function. A lambda function can take any number of arguments, but can only have one expression.\n",
    "* **Generators**: Generator functions allow you to declare a function that behaves like an iterator, i.e. it can be used in a loop."
   ]
  },
  {
   "cell_type": "markdown",
   "metadata": {},
   "source": [
    "### Tuples\n",
    "\n",
    " a tuple is a collection data type that is similar to a list. However, there are immutable. They are defined using parentheses `()`. Although, for a single element tuple, it actually is the comma `,` that makes the tuple."
   ]
  },
  {
   "cell_type": "code",
   "execution_count": 3,
   "metadata": {},
   "outputs": [],
   "source": [
    "empty_tuple = () #empty tuple\n",
    "not_a_tuple = (3) #this is an integer, not a tuple\n",
    "single_tuple = (3,) #this is a tuple\n"
   ]
  },
  {
   "cell_type": "markdown",
   "metadata": {},
   "source": [
    "There is no more ambiguity when there is more than one element. Objects in a tuple can be inhomogeneous. Tuples have the same operators has list."
   ]
  },
  {
   "cell_type": "code",
   "execution_count": 15,
   "metadata": {},
   "outputs": [
    {
     "name": "stdout",
     "output_type": "stream",
     "text": [
      "my_tuple+(3,10) = (0, 'word', [1, 2], 3, 10)\n",
      "2*my_tuple = (0, 'word', [1, 2], 0, 'word', [1, 2])\n"
     ]
    }
   ],
   "source": [
    "my_tuple =(0, 'word', [1,2])\n",
    "\n",
    "print(f'my_tuple+(3,10) = {my_tuple+(3,10)}')\n",
    "print(f'2*my_tuple = {2*my_tuple}')"
   ]
  },
  {
   "cell_type": "markdown",
   "metadata": {},
   "source": [
    "We can also define a tuple only with the coma `,`."
   ]
  },
  {
   "cell_type": "code",
   "execution_count": 37,
   "metadata": {},
   "outputs": [
    {
     "data": {
      "text/plain": [
       "tuple"
      ]
     },
     "execution_count": 37,
     "metadata": {},
     "output_type": "execute_result"
    }
   ],
   "source": [
    "my_tuple = 1,'a',[1,2]\n",
    "type(my_tuple)"
   ]
  },
  {
   "cell_type": "markdown",
   "metadata": {},
   "source": [
    "Except for the `sort()`, tuples support the same operations as lists."
   ]
  },
  {
   "cell_type": "code",
   "execution_count": 4,
   "metadata": {},
   "outputs": [
    {
     "name": "stdout",
     "output_type": "stream",
     "text": [
      "sum : tuple_1 + tuple_2 = (3, 4, 6, 1, 2)\n",
      "multiplication : 3*tuple_2 = (1, 2, 1, 2)\n"
     ]
    }
   ],
   "source": [
    "tuple_1 = (3,4,6)\n",
    "tuple_2 = (1,2)\n",
    "print(f'sum : tuple_1 + tuple_2 = {tuple_1+tuple_2}')\n",
    "print(f'multiplication : 3*tuple_2 = {2*tuple_2}')\n"
   ]
  },
  {
   "cell_type": "markdown",
   "metadata": {},
   "source": [
    "Slicing is done using the brackets `[]`. We can turn an iterable into a tuple using the function `tuple()`."
   ]
  },
  {
   "cell_type": "code",
   "execution_count": 17,
   "metadata": {},
   "outputs": [
    {
     "name": "stdout",
     "output_type": "stream",
     "text": [
      "my_tuple = (0, 1, 2, 3)\n",
      "my_new_tuple = ((0, 1), (2, 3))\n"
     ]
    }
   ],
   "source": [
    "my_tuple = tuple(range(4))\n",
    "my_new_tuple = (my_tuple[:2], my_tuple[2:])\n",
    "\n",
    "print(f'my_tuple = {my_tuple}')\n",
    "print(f'my_new_tuple = {my_new_tuple}')"
   ]
  },
  {
   "cell_type": "markdown",
   "metadata": {},
   "source": [
    "Since tuples are immutable, they don't support functions such as `sort()`."
   ]
  },
  {
   "cell_type": "markdown",
   "metadata": {},
   "source": [
    "Compared to lists, tuples are useful for:\n",
    "\n",
    "* the certainty that its content will not change over time\n",
    "\n",
    "* the function calling mechanism that will be seen later\n",
    "\n",
    "* for efficiency reasons, since its length is constant."
   ]
  },
  {
   "cell_type": "markdown",
   "metadata": {},
   "source": [
    "### Starred Arguments\n",
    "\n",
    "In a function definition, a single asterisk `*` is used to indicate that the function can accept any number of positional arguments (i.e., a variable number of arguments). These arguments are often referred to as \"starred\" or \"splat\" arguments. \n",
    "\n",
    "* Starred arguments can take an arbitrary number of arguments which will be bunched into a tuple.\n",
    "* There can be at most one starred argument by function.\n",
    "* All arguments to its right have to be explicitly named in the function call.\n"
   ]
  },
  {
   "cell_type": "code",
   "execution_count": 20,
   "metadata": {},
   "outputs": [
    {
     "name": "stdout",
     "output_type": "stream",
     "text": [
      "1 2 (3, 4)\n"
     ]
    }
   ],
   "source": [
    "def first_starred_function(a,b,*c):\n",
    "    print(a,b,c)\n",
    "\n",
    "first_starred_function(1,2,3,4)"
   ]
  },
  {
   "cell_type": "code",
   "execution_count": 22,
   "metadata": {},
   "outputs": [
    {
     "name": "stdout",
     "output_type": "stream",
     "text": [
      "1 2 (3, 4) 5\n"
     ]
    }
   ],
   "source": [
    "def second_starred_function(a,b,*c,d):\n",
    "    print(a,b,c,d)\n",
    "\n",
    "second_starred_function(1,2,3,4,d=5)"
   ]
  },
  {
   "cell_type": "markdown",
   "metadata": {},
   "source": [
    "A star `*` can be used in order to force all arguments to its left to be explicitly called in the function."
   ]
  },
  {
   "cell_type": "code",
   "execution_count": 30,
   "metadata": {},
   "outputs": [
    {
     "name": "stdout",
     "output_type": "stream",
     "text": [
      "1 2 0\n",
      "1 2 5\n"
     ]
    }
   ],
   "source": [
    "def third_starred_function(a,b,*,d=0):\n",
    "    print(a,b,d)\n",
    "\n",
    "third_starred_function(1,2)\n",
    "third_starred_function(1,2,d=5)"
   ]
  },
  {
   "cell_type": "markdown",
   "metadata": {},
   "source": [
    "We could for example use a starred argument function to find the minimum of an arbitrary number of elements."
   ]
  },
  {
   "cell_type": "code",
   "execution_count": 31,
   "metadata": {},
   "outputs": [],
   "source": [
    "def minimum(first, *args):\n",
    "    for i in args:\n",
    "        if i < first:\n",
    "            first = i\n",
    "    return first"
   ]
  },
  {
   "cell_type": "code",
   "execution_count": 38,
   "metadata": {},
   "outputs": [
    {
     "data": {
      "text/plain": [
       "-18"
      ]
     },
     "execution_count": 38,
     "metadata": {},
     "output_type": "execute_result"
    }
   ],
   "source": [
    "minimum(5,10,-18,5)"
   ]
  },
  {
   "cell_type": "markdown",
   "metadata": {},
   "source": [
    "### Double-starred Arguments\n",
    "\n",
    "Double-starred `**` arguments are used to pass a variable number of keyword arguments to a function. These are often referred to as \"double-starred\" or \"double-splat\" arguments. In a function definition, you can use `**kwargs` to collect any additional keyword arguments that are not explicitly listed.\n",
    "\n",
    "Python will affect to this argument a dictionary with all the arguments named by the user that were not defined in the function."
   ]
  },
  {
   "cell_type": "code",
   "execution_count": 39,
   "metadata": {},
   "outputs": [],
   "source": [
    "def first_doubled_starred(**kargs):\n",
    "    print(kargs)"
   ]
  },
  {
   "cell_type": "code",
   "execution_count": 40,
   "metadata": {},
   "outputs": [
    {
     "name": "stdout",
     "output_type": "stream",
     "text": [
      "{'age': 22, 'name': 'Bob', 'height': 5.8}\n"
     ]
    }
   ],
   "source": [
    "first_doubled_starred(age = 22, name = 'Bob', height = 5.8)"
   ]
  },
  {
   "cell_type": "markdown",
   "metadata": {},
   "source": [
    "### Lamdbda Functions\n",
    "\n",
    "A lambda function is a small anonymous function. A lambda function can take any number of arguments, but can only have one expression.\n",
    "\n",
    "The synthax is\n",
    "```python\n",
    "lambda arguments : expression\n",
    "```"
   ]
  },
  {
   "cell_type": "markdown",
   "metadata": {},
   "source": [
    "The following two functions are equivalent"
   ]
  },
  {
   "cell_type": "code",
   "execution_count": 1,
   "metadata": {},
   "outputs": [],
   "source": [
    "def sum_without_lambda(x,y,z):\n",
    "    return x+y+z"
   ]
  },
  {
   "cell_type": "code",
   "execution_count": 2,
   "metadata": {},
   "outputs": [],
   "source": [
    "sum_with_lambda = lambda x,y,z : x+y+z"
   ]
  },
  {
   "cell_type": "code",
   "execution_count": 4,
   "metadata": {},
   "outputs": [
    {
     "name": "stdout",
     "output_type": "stream",
     "text": [
      "22\n",
      "22\n"
     ]
    }
   ],
   "source": [
    "print(sum_without_lambda(3,12,7))\n",
    "print(sum_with_lambda(3,12,7))"
   ]
  },
  {
   "cell_type": "markdown",
   "metadata": {},
   "source": [
    "A slightly more funky example:"
   ]
  },
  {
   "cell_type": "code",
   "execution_count": 9,
   "metadata": {},
   "outputs": [
    {
     "name": "stdout",
     "output_type": "stream",
     "text": [
      "4 8 16 "
     ]
    }
   ],
   "source": [
    "power_list_function = [lambda x: x**2, lambda x: x**3, lambda x: x**4]\n",
    "\n",
    "for power in power_list_function:\n",
    "    print(power(2), end=\" \")"
   ]
  },
  {
   "cell_type": "markdown",
   "metadata": {},
   "source": [
    "### Generators\n",
    "\n",
    "Generator functions allow you to declare a function that behaves like an iterator, i.e. it can be used in a for loop.\n",
    "\n",
    "The are based on a `yield` statement instant of a `return`. Yield temporarily suspends execution to return an intermediate value."
   ]
  },
  {
   "cell_type": "code",
   "execution_count": 11,
   "metadata": {},
   "outputs": [],
   "source": [
    "def square(n):\n",
    "    for i in range(n):\n",
    "        yield (i+1)**2"
   ]
  },
  {
   "cell_type": "markdown",
   "metadata": {},
   "source": [
    "Our function then returns a generator. We can acces its elements through a `for` loop. We can also turn it into a list."
   ]
  },
  {
   "cell_type": "code",
   "execution_count": 16,
   "metadata": {},
   "outputs": [
    {
     "name": "stdout",
     "output_type": "stream",
     "text": [
      "The type of x is <class 'generator'>\n",
      "1\n",
      "4\n",
      "9\n",
      "16\n"
     ]
    }
   ],
   "source": [
    "square_values = square(4)\n",
    "print(f'The type of x is {type(square_values)}')\n",
    "\n",
    "for i in square_values:\n",
    "    print(i)"
   ]
  },
  {
   "cell_type": "markdown",
   "metadata": {},
   "source": [
    "After traveling through the yield values, the original generator is empty."
   ]
  },
  {
   "cell_type": "code",
   "execution_count": 19,
   "metadata": {},
   "outputs": [
    {
     "name": "stdout",
     "output_type": "stream",
     "text": [
      "Square valaures is now empty : []\n"
     ]
    }
   ],
   "source": [
    "square_list = list(square_values)\n",
    "print(f'Square valaures is now empty : {square_list}')"
   ]
  },
  {
   "cell_type": "code",
   "execution_count": 20,
   "metadata": {},
   "outputs": [
    {
     "name": "stdout",
     "output_type": "stream",
     "text": [
      "We had to call the generating function again : [1, 4, 9, 16]\n"
     ]
    }
   ],
   "source": [
    "square_list = list(square(4))\n",
    "print(f'We had to call the generating function again : {square_list}')"
   ]
  },
  {
   "cell_type": "markdown",
   "metadata": {},
   "source": [
    "`next()` can be used to acces the yield values one at the time. Although, an error will be generated if you use `next()` once the generator as reached its last element. "
   ]
  },
  {
   "cell_type": "code",
   "execution_count": 36,
   "metadata": {},
   "outputs": [
    {
     "name": "stdout",
     "output_type": "stream",
     "text": [
      "1\n",
      "4\n",
      "9\n",
      "16\n"
     ]
    }
   ],
   "source": [
    "square_values = square(4)\n",
    "\n",
    "print( next(square_values))\n",
    "print( next(square_values))\n",
    "print( next(square_values))\n",
    "print( next(square_values))"
   ]
  },
  {
   "cell_type": "markdown",
   "metadata": {},
   "source": [
    "### Generator Expressions\n",
    "\n",
    "Generator expressions are a concise and memory-efficient way to create iterators.Their syntaxe is\n",
    "```python\n",
    "(<expression> in <item> for <iterable> if <condition>)\n",
    "```"
   ]
  },
  {
   "cell_type": "code",
   "execution_count": 8,
   "metadata": {},
   "outputs": [
    {
     "name": "stdout",
     "output_type": "stream",
     "text": [
      "<generator object <genexpr> at 0x7f1f8072add0>\n",
      "first value = 0\n",
      "Second value = 2\n"
     ]
    }
   ],
   "source": [
    "my_generator = (i for i in range(10) if i%2 == 0)\n",
    "print(my_generator)\n",
    "print(f'first value = {next(my_generator)}')\n",
    "print(f'Second value = {next(my_generator)}')\n",
    "print(f'Third value = {next(my_generator)}')"
   ]
  },
  {
   "cell_type": "markdown",
   "metadata": {},
   "source": [
    "The `range()` function is nothing else then a generator expressions."
   ]
  },
  {
   "cell_type": "code",
   "execution_count": 9,
   "metadata": {},
   "outputs": [],
   "source": [
    "def simple_range(start, stop):\n",
    "    while start < stop:\n",
    "        yield start\n",
    "        start += 1"
   ]
  },
  {
   "cell_type": "code",
   "execution_count": 10,
   "metadata": {},
   "outputs": [
    {
     "name": "stdout",
     "output_type": "stream",
     "text": [
      "0 1 2 3 4 5 6 7 8 9 "
     ]
    }
   ],
   "source": [
    "for i in simple_range(0,10):\n",
    "    print(i, end=' ')"
   ]
  },
  {
   "cell_type": "markdown",
   "metadata": {},
   "source": [
    "When used with brackets, we can quickly build a list."
   ]
  },
  {
   "cell_type": "code",
   "execution_count": 6,
   "metadata": {},
   "outputs": [
    {
     "name": "stdout",
     "output_type": "stream",
     "text": [
      "[0, 2, 4, 6, 8]\n"
     ]
    }
   ],
   "source": [
    "my_list = [i for i in range(10) if i % 2 == 0]\n",
    "print(my_list)"
   ]
  },
  {
   "cell_type": "markdown",
   "metadata": {},
   "source": [
    "The function `enumerate()` applies to an iterable of elements and returns an iterable of tuples composed of the index of each elements of the iterable and its value."
   ]
  },
  {
   "cell_type": "code",
   "execution_count": 11,
   "metadata": {},
   "outputs": [
    {
     "name": "stdout",
     "output_type": "stream",
     "text": [
      "index = 0, value = 1\n",
      "index = 1, value = abc\n",
      "index = 2, value = 3.1416\n"
     ]
    }
   ],
   "source": [
    "my_list = [1, 'abc', 3.1416]\n",
    "for (index, value) in enumerate(my_list):\n",
    "    print(f'index = {index}, value = {value}')"
   ]
  },
  {
   "cell_type": "markdown",
   "metadata": {},
   "source": [
    "The final concept seen in this chapter is the mutliple assignment."
   ]
  },
  {
   "cell_type": "code",
   "execution_count": 13,
   "metadata": {},
   "outputs": [
    {
     "name": "stdout",
     "output_type": "stream",
     "text": [
      "a = 0, b = 6, c = spam\n"
     ]
    }
   ],
   "source": [
    "a,b,c = 0, 2+4, 'spam'\n",
    "print(f'a = {a}, b = {b}, c = {c}')"
   ]
  },
  {
   "cell_type": "markdown",
   "metadata": {},
   "source": [
    "The start `*` can be used to group into a list certain assigments."
   ]
  },
  {
   "cell_type": "code",
   "execution_count": 14,
   "metadata": {},
   "outputs": [
    {
     "name": "stdout",
     "output_type": "stream",
     "text": [
      "b = [44, 'abc']\n"
     ]
    }
   ],
   "source": [
    "a, *b, c = 0, 44, 'abc', 3.1416\n",
    "print(f'b = {b}')"
   ]
  },
  {
   "cell_type": "markdown",
   "metadata": {},
   "source": [
    "We can also use multiple assigment for iterators."
   ]
  },
  {
   "cell_type": "code",
   "execution_count": 16,
   "metadata": {},
   "outputs": [
    {
     "name": "stdout",
     "output_type": "stream",
     "text": [
      "a = s, b = p, c = am\n"
     ]
    }
   ],
   "source": [
    "((a,b),c) = ('sp','am')\n",
    "print(f'a = {a}, b = {b}, c = {c}')"
   ]
  },
  {
   "cell_type": "markdown",
   "metadata": {},
   "source": [
    "Muliple assigment is useful to exchange the value of two variables without having to create a buffer."
   ]
  },
  {
   "cell_type": "code",
   "execution_count": 18,
   "metadata": {},
   "outputs": [
    {
     "name": "stdout",
     "output_type": "stream",
     "text": [
      "x = 20, y = -10\n"
     ]
    }
   ],
   "source": [
    "x = -10\n",
    "y = 20\n",
    "x, y = y, x\n",
    "print(f'x = {x}, y = {y}')"
   ]
  }
 ],
 "metadata": {
  "kernelspec": {
   "display_name": "thewalrus",
   "language": "python",
   "name": "python3"
  },
  "language_info": {
   "codemirror_mode": {
    "name": "ipython",
    "version": 3
   },
   "file_extension": ".py",
   "mimetype": "text/x-python",
   "name": "python",
   "nbconvert_exporter": "python",
   "pygments_lexer": "ipython3",
   "version": "3.8.0"
  }
 },
 "nbformat": 4,
 "nbformat_minor": 2
}
