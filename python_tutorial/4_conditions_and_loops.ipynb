{
 "cells": [
  {
   "cell_type": "markdown",
   "metadata": {},
   "source": [
    "# Chapter 4\n",
    "# Conditions and loops\n",
    "\n",
    "Important notions of this chapter\n",
    "* **Iterables**: objects capable of returning its elements one at a time.\n",
    "* **If-else Statements**: Used for conditional execution of code based on whether a specified condition evaluates to `True` or `False` (see boolean type of chapter 2).\n",
    "* **For loops**: used for iterating over an iterable objects.\n",
    "* **While loops**: loop is used to repeatedly execute a block of code as long as a specified condition is true.\n",
    "* **Dictionaries**:  Allows one to store and retrieve data in a key-value pair format. It is a mutable, unordered collection of items where each item consists of a key and its corresponding value.\n",
    "* **Copies**: In Python, the concepts of shallow copy and deep copy refer to the ways in which objects, especially complex objects like lists or dictionaries, are duplicated. The key difference lies in how the original and copied objects interact with their nested objects."
   ]
  },
  {
   "cell_type": "markdown",
   "metadata": {},
   "source": [
    "### Iterables\n",
    "\n",
    "In Python, an iterable is an object capable of returning its elements one at a time. It can be used in a for loop to iterate over the elements sequentially. Examples of iterables in Python include lists, tuples, strings, dictionaries, sets, and more.\n",
    "\n",
    "A particularly iterable function is the `range(start, stop, step)` function wish returns numbers from `start` to `end-1` by increment of `step`. If only one argument is given, it is considered to be the end of the iteration. The starting point is then `0` by default and the step is `1`."
   ]
  },
  {
   "cell_type": "markdown",
   "metadata": {},
   "source": [
    "### If-else Statements\n",
    "\n",
    "Used for conditional execution of code based on whether a specified condition evaluates to `True` or `False` (see boolean type of chapter 2). Just like for functions, in Python, indentation is crutial for the interpreter to know what is part of the if-else statement. The elements of the else-if statement are :\n",
    "\n",
    "* `if` Only necessary element. Followed by a boolean condition and then a colon. The indented block of code following will be executed only if the condition returns `True`.\n",
    "* `elif` second condition that will be tested only if the previous `if` and `elif` statements all returned `FALSE` values.\n",
    "* `else` always at the end of the if-else. Is execute if all previous `if` and `elif` statements returned `FALSE` values."
   ]
  },
  {
   "cell_type": "code",
   "execution_count": 2,
   "metadata": {},
   "outputs": [
    {
     "name": "stdout",
     "output_type": "stream",
     "text": [
      "You are an aldut!\n"
     ]
    }
   ],
   "source": [
    "age = input('How old are you? : ')\n",
    "age = int(age)\n",
    "\n",
    "if age<18:\n",
    "    print(\"You are young!\")\n",
    "elif age<30:\n",
    "    print(\"You are a young adult!\")\n",
    "elif age<60:\n",
    "    print(\"You are an aldut!\")\n",
    "else:\n",
    "    print(\"You are old!\")"
   ]
  },
  {
   "cell_type": "markdown",
   "metadata": {},
   "source": [
    "You can have two or more conditional statements within one another. Indentation allows one to read them."
   ]
  },
  {
   "cell_type": "code",
   "execution_count": 3,
   "metadata": {},
   "outputs": [
    {
     "name": "stdout",
     "output_type": "stream",
     "text": [
      "You have brown hairs and green eyes.\n"
     ]
    }
   ],
   "source": [
    "hairs = 'brown'\n",
    "eyes = 'green'\n",
    "\n",
    "if hairs == 'brown':\n",
    "    if eyes == 'green':\n",
    "        print('You have brown hairs and green eyes.')\n",
    "    else:\n",
    "        print('You have brown hairs.')\n",
    "else:\n",
    "    print(\"You don't have brown hairs.\")"
   ]
  },
  {
   "cell_type": "markdown",
   "metadata": {},
   "source": [
    "So far, we only considered if as a statement, but it can also be used as an operator."
   ]
  },
  {
   "cell_type": "code",
   "execution_count": 6,
   "metadata": {},
   "outputs": [
    {
     "name": "stdout",
     "output_type": "stream",
     "text": [
      "50\n"
     ]
    }
   ],
   "source": [
    "x = True\n",
    "y = 50\n",
    "z = 100\n",
    "\n",
    "a = y if x else z\n",
    "print(a)"
   ]
  },
  {
   "cell_type": "markdown",
   "metadata": {},
   "source": [
    "The `in` statement can test if a certain value is in an iterable."
   ]
  },
  {
   "cell_type": "code",
   "execution_count": 23,
   "metadata": {},
   "outputs": [
    {
     "name": "stdout",
     "output_type": "stream",
     "text": [
      "7 is in the list.\n"
     ]
    }
   ],
   "source": [
    "my_list = [1, 4, 7]\n",
    "\n",
    "if 7 in my_list:\n",
    "    print('7 is in the list.')\n",
    "else:\n",
    "    print('7 is not in the list.')"
   ]
  },
  {
   "cell_type": "markdown",
   "metadata": {},
   "source": [
    "### For loops\n",
    "\n",
    "used for iterating over an iterable object. The general syntax of a `for` loop in Python is as follows:\n",
    "\n",
    "```python\n",
    "for variable in iterable:\n",
    "    # Code to be executed\n",
    "    # ...\n",
    "```"
   ]
  },
  {
   "cell_type": "code",
   "execution_count": 15,
   "metadata": {},
   "outputs": [
    {
     "name": "stdout",
     "output_type": "stream",
     "text": [
      "0 1 2 \n",
      "d o g \n",
      "10 20 30 "
     ]
    }
   ],
   "source": [
    "for i in range(3):\n",
    "    print(i, end= ' ')\n",
    "\n",
    "print('')\n",
    "for i in 'dog':\n",
    "    print(i, end= ' ')\n",
    "\n",
    "print('')\n",
    "for i in [10, 20, 30]:\n",
    "    print(i, end= ' ') "
   ]
  },
  {
   "cell_type": "markdown",
   "metadata": {},
   "source": [
    "Within the loop, we can use the following statements.\n",
    "\n",
    "* `continue` immediatly jumps to the next iteration.\n",
    "\n",
    "* `break` exists the loop."
   ]
  },
  {
   "cell_type": "code",
   "execution_count": 24,
   "metadata": {},
   "outputs": [
    {
     "name": "stdout",
     "output_type": "stream",
     "text": [
      "un pomme 34 3.1416 [] "
     ]
    }
   ],
   "source": [
    "items = ['a', 'apple', 'noprint', 34, 3.1416, [], 'stop', 54321, -12]\n",
    "\n",
    "for item in items:\n",
    "    if item=='stop':\n",
    "        break\n",
    "    elif item=='noprint':\n",
    "        continue\n",
    "    else:\n",
    "        print(item, end= \" \")"
   ]
  },
  {
   "cell_type": "markdown",
   "metadata": {},
   "source": [
    "For loops can be used for example to find the sum of the product of a list."
   ]
  },
  {
   "cell_type": "code",
   "execution_count": 19,
   "metadata": {},
   "outputs": [],
   "source": [
    "my_list = [1,2,3,4,5,6]"
   ]
  },
  {
   "cell_type": "code",
   "execution_count": 20,
   "metadata": {},
   "outputs": [
    {
     "name": "stdout",
     "output_type": "stream",
     "text": [
      "The sum of the list is 21\n"
     ]
    }
   ],
   "source": [
    "list_sum = 0\n",
    "\n",
    "for i in my_list:\n",
    "    list_sum += i\n",
    "\n",
    "print(f'The sum of the list is {list_sum}.')"
   ]
  },
  {
   "cell_type": "code",
   "execution_count": 22,
   "metadata": {},
   "outputs": [
    {
     "name": "stdout",
     "output_type": "stream",
     "text": [
      "The product of the list is 720.\n"
     ]
    }
   ],
   "source": [
    "list_product = 1\n",
    "\n",
    "for i in my_list:\n",
    "    list_product *= i\n",
    "\n",
    "print(f'The product of the list is {list_product}.')"
   ]
  },
  {
   "cell_type": "markdown",
   "metadata": {},
   "source": [
    "The `for` can be used as an operator."
   ]
  },
  {
   "cell_type": "code",
   "execution_count": 31,
   "metadata": {},
   "outputs": [
    {
     "name": "stdout",
     "output_type": "stream",
     "text": [
      "y = [0, 2, 4, 6, 8, 10, 12, 14]\n",
      "z = [0, 0, 2, 2, 4, 4, 6, 6]\n"
     ]
    }
   ],
   "source": [
    "x = [1,2,3,4,5,6]\n",
    "\n",
    "y = [2*i for i in range(8)]\n",
    "\n",
    "z = [i if i%2 == 0 else i-1 for i in range(8)]\n",
    "\n",
    "print(f'y = {y}')\n",
    "print(f'z = {z}')"
   ]
  },
  {
   "cell_type": "markdown",
   "metadata": {},
   "source": [
    "### While loop\n",
    "\n",
    "While loops are used to repeatedly execute a block of code as long as a specified condition is true.\n",
    "\n",
    "They are never actually used in Python! We always find a way to use the `for` loops. `while` loops are dangerous. Watch for infinite loops!"
   ]
  },
  {
   "cell_type": "code",
   "execution_count": 32,
   "metadata": {},
   "outputs": [
    {
     "name": "stdout",
     "output_type": "stream",
     "text": [
      "I owe you 0$\n",
      "I owe you 1$\n",
      "I owe you 2$\n",
      "I owe you 3$\n",
      "I owe you 4$\n"
     ]
    }
   ],
   "source": [
    "n = 0\n",
    "while n<5:\n",
    "    print(f\"I owe you {n}$\")\n",
    "    n+=1"
   ]
  },
  {
   "cell_type": "markdown",
   "metadata": {},
   "source": [
    "The better solution, using a `for` loop, is"
   ]
  },
  {
   "cell_type": "code",
   "execution_count": 34,
   "metadata": {},
   "outputs": [
    {
     "name": "stdout",
     "output_type": "stream",
     "text": [
      "I owe you 0$\n",
      "I owe you 1$\n",
      "I owe you 2$\n",
      "I owe you 3$\n",
      "I owe you 4$\n"
     ]
    }
   ],
   "source": [
    "for n in range(5):\n",
    "    print(f\"I owe you {n}$\")"
   ]
  },
  {
   "cell_type": "markdown",
   "metadata": {},
   "source": [
    "### Dictionaries\n",
    "\n",
    "Allows one to store and retrieve data in a key-value pair format. It is a mutable, unordered collection of items where each item consists of a key and its corresponding value. The dictionnary is defined by the brackets `{}`."
   ]
  },
  {
   "cell_type": "code",
   "execution_count": 1,
   "metadata": {},
   "outputs": [],
   "source": [
    "a = {} #This is an empty dictionary.\n",
    "b = {'key1':'value1', 'key2':'value2', 'key3': 'value3'} #None empty dictionnary"
   ]
  },
  {
   "cell_type": "markdown",
   "metadata": {},
   "source": [
    "Values of the dictionnary can be acces by using the brackets `[]` again, but with the key values instead of the indices."
   ]
  },
  {
   "cell_type": "code",
   "execution_count": 2,
   "metadata": {},
   "outputs": [
    {
     "data": {
      "text/plain": [
       "3"
      ]
     },
     "execution_count": 2,
     "metadata": {},
     "output_type": "execute_result"
    }
   ],
   "source": [
    "grocery = {'egg': 2.50, 'bread': 4.50, 'milk': 3}\n",
    "grocery['milk']"
   ]
  },
  {
   "cell_type": "markdown",
   "metadata": {},
   "source": [
    "Dictionnaries are mutable meaning that the can be modified, either by adding elements or by changing the values."
   ]
  },
  {
   "cell_type": "code",
   "execution_count": 3,
   "metadata": {},
   "outputs": [
    {
     "name": "stdout",
     "output_type": "stream",
     "text": [
      "{'egg': 2.75, 'bread': 4.5, 'milk': 3, 'cake': 10.5}\n"
     ]
    }
   ],
   "source": [
    "grocery['egg'] = 2.75\n",
    "grocery['cake'] = 10.50\n",
    "\n",
    "print(grocery)"
   ]
  },
  {
   "cell_type": "markdown",
   "metadata": {},
   "source": [
    "Values of the dictionaries could be anything, even another dictionary."
   ]
  },
  {
   "cell_type": "code",
   "execution_count": 4,
   "metadata": {},
   "outputs": [
    {
     "name": "stdout",
     "output_type": "stream",
     "text": [
      "{'egg': 2.75, 'bread': 4.5, 'milk': 3, 'cake': 10.5, 'fruit': {'apples': 4.75, 'bananas': 0.8}}\n",
      "4.75\n"
     ]
    }
   ],
   "source": [
    "grocery['fruit'] = {'apples':4.75, 'bananas':0.80}\n",
    "\n",
    "print(grocery)\n",
    "print(grocery['fruit']['apples'])"
   ]
  },
  {
   "cell_type": "markdown",
   "metadata": {},
   "source": [
    "Methods and functions that can be applied to dictionaries:\n",
    "* `len()` returns the size of the dictionary.\n",
    "* `.keys()` returns the keys of the dictionary as an iterable.\n",
    "* `.values()` returns the values of the dictionary as an iterable.\n",
    "* `.items()` returns the items (pairs of keys and values) of the dictionary as an iterable.\n",
    "* `.get()` returns the value associated with a key. This is just like using the brackets `[]` expcet that if the key is not part of the dictionary, this methods returns `None` unlike the brackets which return an error. This method allows for a second argument the return instead of `None' in case the key is not found.\n",
    "* `del` to delet an item from the dictionary based on a key value."
   ]
  },
  {
   "cell_type": "code",
   "execution_count": 5,
   "metadata": {},
   "outputs": [
    {
     "name": "stdout",
     "output_type": "stream",
     "text": [
      "dict_keys(['a', 'b', 'c', 'd'])\n",
      "dict_values([1, 2, 3, 4])\n",
      "dict_items([('a', 1), ('b', 2), ('c', 3), ('d', 4)])\n",
      "None\n",
      "The key is not in the dictionay.\n",
      "{'b': 2, 'c': 3, 'd': 4}\n"
     ]
    }
   ],
   "source": [
    "my_dictionary = {'a':1, 'b':2, 'c':3, 'd':4}\n",
    "\n",
    "print(my_dictionary.keys())\n",
    "print(my_dictionary.values())\n",
    "print(my_dictionary.items())\n",
    "print(my_dictionary.get('e'))\n",
    "print(my_dictionary.get('e', 'The key is not in the dictionay.'))\n",
    "\n",
    "del my_dictionary['a']\n",
    "\n",
    "print(my_dictionary)"
   ]
  },
  {
   "cell_type": "markdown",
   "metadata": {},
   "source": [
    "The `.get()` method is useful for conditional statements."
   ]
  },
  {
   "cell_type": "code",
   "execution_count": 6,
   "metadata": {},
   "outputs": [
    {
     "name": "stdout",
     "output_type": "stream",
     "text": [
      "Les dictionnaires ne contient pas e\n"
     ]
    }
   ],
   "source": [
    "my_dictionary = {'a':1, 'b':2, 'c':3, 'd':4}\n",
    "if my_dictionary.get('e')==None:\n",
    "    print('Les dictionnaires ne contient pas e')\n",
    "else:\n",
    "    print(f\"la valeur de e est {my_dictionary.get('a')}.\")"
   ]
  },
  {
   "cell_type": "markdown",
   "metadata": {},
   "source": [
    "Dictionaries are iterables. We can travel through them using `for` loops. By default, the loop returns the keys of the dictionary."
   ]
  },
  {
   "cell_type": "code",
   "execution_count": 7,
   "metadata": {},
   "outputs": [],
   "source": [
    "my_dictionary = {'a':1, 'b':2, 'c':3, 'd':4}"
   ]
  },
  {
   "cell_type": "code",
   "execution_count": 8,
   "metadata": {},
   "outputs": [
    {
     "name": "stdout",
     "output_type": "stream",
     "text": [
      "key : a, value : 1\n",
      "key : b, value : 2\n",
      "key : c, value : 3\n",
      "key : d, value : 4\n"
     ]
    }
   ],
   "source": [
    "for key in my_dictionary:\n",
    "    print(f'key : {key}, value : {my_dictionary[key]}')"
   ]
  },
  {
   "cell_type": "markdown",
   "metadata": {},
   "source": [
    "We can also implicitely loop on keys."
   ]
  },
  {
   "cell_type": "code",
   "execution_count": 9,
   "metadata": {},
   "outputs": [
    {
     "name": "stdout",
     "output_type": "stream",
     "text": [
      "key : a, value : 1\n",
      "key : b, value : 2\n",
      "key : c, value : 3\n",
      "key : d, value : 4\n"
     ]
    }
   ],
   "source": [
    "for key in my_dictionary.keys():\n",
    "    print(f'key : {key}, value : {my_dictionary[key]}')"
   ]
  },
  {
   "cell_type": "markdown",
   "metadata": {},
   "source": [
    "We can also loop on values, but in this case, we can't get the keys."
   ]
  },
  {
   "cell_type": "code",
   "execution_count": 10,
   "metadata": {},
   "outputs": [
    {
     "name": "stdout",
     "output_type": "stream",
     "text": [
      "? : 1\n",
      "? : 2\n",
      "? : 3\n",
      "? : 4\n"
     ]
    }
   ],
   "source": [
    "for value in my_dictionary.values():\n",
    "    print(f'? : {value}')"
   ]
  },
  {
   "cell_type": "markdown",
   "metadata": {},
   "source": [
    "We can finally loop on items and acces keys and items with brackets `[]`."
   ]
  },
  {
   "cell_type": "code",
   "execution_count": 11,
   "metadata": {},
   "outputs": [
    {
     "name": "stdout",
     "output_type": "stream",
     "text": [
      "Item : ('a', 1), key : a, value : 1\n",
      "Item : ('b', 2), key : b, value : 2\n",
      "Item : ('c', 3), key : c, value : 3\n",
      "Item : ('d', 4), key : d, value : 4\n"
     ]
    }
   ],
   "source": [
    "for item in my_dictionary.items():\n",
    "    print(f'Item : {item}, key : {item[0]}, value : {item[1]}')"
   ]
  },
  {
   "cell_type": "markdown",
   "metadata": {},
   "source": [
    "We can also seperate keys and values from the items."
   ]
  },
  {
   "cell_type": "code",
   "execution_count": 12,
   "metadata": {},
   "outputs": [
    {
     "name": "stdout",
     "output_type": "stream",
     "text": [
      "key : a, value : 1\n",
      "key : b, value : 2\n",
      "key : c, value : 3\n",
      "key : d, value : 4\n"
     ]
    }
   ],
   "source": [
    "for key, value in my_dictionary.items():\n",
    "    print(f'key : {key}, value : {value}')"
   ]
  },
  {
   "cell_type": "markdown",
   "metadata": {},
   "source": [
    "### Copies\n",
    "\n",
    "In Python, the concepts of shallow copy and deep copy refer to the ways in which objects, especially complex objects like lists or dictionaries, are duplicated. The key difference lies in how the original and copied objects interact with their nested objects.\n",
    "\n",
    "* **Shallow Copy** A shallow copy creates a new object, but it does not create copies of nested objects within the original. Basically, the two variable are pointing to the same space in memory. That means that a modification to the initial obects will result in the same modification of the copy and vice versa.\n",
    "\n",
    "* **Deep Copy** A deep copy creates a new object and recursively copies all nested objects within the original. This results in a fully independent copy where changes in the original do not affect the copy and vice versa.\n",
    "\n",
    "Those concepts don't apply to strings since they are inmutable objects. What about lists, dictionaries and others?"
   ]
  },
  {
   "cell_type": "markdown",
   "metadata": {},
   "source": [
    "What about numbers and booleans? The equal operator `=` creates a deep copy."
   ]
  },
  {
   "cell_type": "code",
   "execution_count": 38,
   "metadata": {},
   "outputs": [
    {
     "name": "stdout",
     "output_type": "stream",
     "text": [
      "x = 10 and y = 11\n",
      "x is unafected by the modification of y. \n",
      "This is a deepcopy.\n"
     ]
    }
   ],
   "source": [
    "x = 10\n",
    "y = x\n",
    "y += 1\n",
    "print(f'x = {x} and y = {y}')\n",
    "print(f'x is unafected by the modification of y. \\nThis is a deepcopy.')\n",
    "\n"
   ]
  },
  {
   "cell_type": "markdown",
   "metadata": {},
   "source": [
    "The operator `=` creates a shallow copy of a list. To make a deep copy, we need to use `.copy()` method."
   ]
  },
  {
   "cell_type": "code",
   "execution_count": 43,
   "metadata": {},
   "outputs": [
    {
     "name": "stdout",
     "output_type": "stream",
     "text": [
      "x = [1, 2, 3, 4]\n",
      "The modifications to y also modified the original x. This is a shallow copy.\n"
     ]
    }
   ],
   "source": [
    "x = [1,2,3]\n",
    "y = x\n",
    "y.append(4)\n",
    "print(f'x = {x}')\n",
    "print(f'The modifications to y also modified the original x. This is a shallow copy.')\n"
   ]
  },
  {
   "cell_type": "code",
   "execution_count": 44,
   "metadata": {},
   "outputs": [
    {
     "name": "stdout",
     "output_type": "stream",
     "text": [
      "x = [1, 2, 3]\n",
      "The modifications to y also modified the original x. This is a deep copy.\n"
     ]
    }
   ],
   "source": [
    "x = [1,2,3]\n",
    "y = x.copy()\n",
    "y.append(4)\n",
    "print(f'x = {x}')\n",
    "print(f'The modifications to y also modified the original x. This is a deep copy.')"
   ]
  },
  {
   "cell_type": "markdown",
   "metadata": {},
   "source": [
    "Just like for lists, we can use `.copy()` to make a deep copy of the dictionary. The operator `=` only makes shallow copies. The same applies to sets."
   ]
  },
  {
   "cell_type": "code",
   "execution_count": 45,
   "metadata": {},
   "outputs": [
    {
     "name": "stdout",
     "output_type": "stream",
     "text": [
      "shallow copy is modified after assignation : {'a': 1, 'b': 2, 'c': 3, 'd': 400}\n",
      "Not a deep copy : {'a': 1, 'b': 2, 'c': 3, 'd': 4}\n"
     ]
    }
   ],
   "source": [
    "my_dictionary = {'a':1, 'b':2, 'c':3, 'd':4}\n",
    "\n",
    "shallow_copy = my_dictionary\n",
    "deep_copy = my_dictionary.copy()\n",
    "\n",
    "my_dictionary['d'] = 400\n",
    "\n",
    "print(f'shallow copy is modified after assignation : {shallow_copy}')\n",
    "print(f'Not a deep copy : {deep_copy}')"
   ]
  }
 ],
 "metadata": {
  "kernelspec": {
   "display_name": "thewalrus",
   "language": "python",
   "name": "python3"
  },
  "language_info": {
   "codemirror_mode": {
    "name": "ipython",
    "version": 3
   },
   "file_extension": ".py",
   "mimetype": "text/x-python",
   "name": "python",
   "nbconvert_exporter": "python",
   "pygments_lexer": "ipython3",
   "version": "3.8.0"
  }
 },
 "nbformat": 4,
 "nbformat_minor": 2
}
