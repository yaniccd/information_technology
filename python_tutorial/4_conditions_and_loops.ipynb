{
 "cells": [
  {
   "cell_type": "markdown",
   "metadata": {},
   "source": [
    "# Chapter 4\n",
    "# Conditions and loops\n",
    "\n",
    "Important notions of this chapter\n",
    "* **Dictionaries**:  Allows one to store and retrieve data in a key-value pair format. It is a mutable, unordered collection of items where each item consists of a key and its corresponding value."
   ]
  },
  {
   "cell_type": "markdown",
   "metadata": {},
   "source": [
    "if, while, for\n",
    "\n",
    "iterables\n",
    "\n",
    "dictionaries\n",
    "\n",
    "tuples"
   ]
  },
  {
   "cell_type": "code",
   "execution_count": null,
   "metadata": {},
   "outputs": [],
   "source": [
    "#3.3 L'Enonce Conditionnel\n",
    "#le if (le elif et le else sont optionnel)\n",
    "age = input(\"Entrez votre age : \")\n",
    "age=int(age)\n",
    "if age<18:\n",
    "    print(\"Vous etes jeune!\")\n",
    "elif age<30:\n",
    "    print(\"Vous etes un jeune adulte!\")\n",
    "elif age<60:\n",
    "    print(\"Vous etes un adulte!\")\n",
    "else:\n",
    "    print(\"Vous etes vieux!\")\n",
    "\n",
    "#enonce indente\n",
    "x=True\n",
    "y=True\n",
    "if x:\n",
    "    if y:\n",
    "        print('x et y sont vrais')\n",
    "\n",
    "#nous avons vu le if sous forme d'enonce.\n",
    "#on le retrouve aussi sous forme d'operateur\n",
    "x=True\n",
    "y=33; z=44\n",
    "a = y if x else z\n",
    "print(a)"
   ]
  },
  {
   "cell_type": "markdown",
   "metadata": {},
   "source": [
    "do loops on strings list dic tuples, ect"
   ]
  },
  {
   "cell_type": "markdown",
   "metadata": {},
   "source": [
    "### Dictionaries\n",
    "\n",
    "Allows one to store and retrieve data in a key-value pair format. It is a mutable, unordered collection of items where each item consists of a key and its corresponding value. The dictionnary is defined by the brackets `{}`."
   ]
  },
  {
   "cell_type": "code",
   "execution_count": 1,
   "metadata": {},
   "outputs": [],
   "source": [
    "a = {} #This is an empty dictionary.\n",
    "b = {'key1':'value1', 'key2':'value2', 'key3': 'value3'} #None empty dictionnary"
   ]
  },
  {
   "cell_type": "markdown",
   "metadata": {},
   "source": [
    "Values of the dictionnary can be acces by using the brackets `[]` again, but with the key values instead of the indices."
   ]
  },
  {
   "cell_type": "code",
   "execution_count": 2,
   "metadata": {},
   "outputs": [
    {
     "data": {
      "text/plain": [
       "3"
      ]
     },
     "execution_count": 2,
     "metadata": {},
     "output_type": "execute_result"
    }
   ],
   "source": [
    "grocery = {'egg': 2.50, 'bread': 4.50, 'milk': 3}\n",
    "grocery['milk']"
   ]
  },
  {
   "cell_type": "markdown",
   "metadata": {},
   "source": [
    "Dictionnaries are mutable meaning that the can be modified, either by adding elements or by changing the values."
   ]
  },
  {
   "cell_type": "code",
   "execution_count": 3,
   "metadata": {},
   "outputs": [
    {
     "name": "stdout",
     "output_type": "stream",
     "text": [
      "{'egg': 2.75, 'bread': 4.5, 'milk': 3, 'cake': 10.5}\n"
     ]
    }
   ],
   "source": [
    "grocery['egg'] = 2.75\n",
    "grocery['cake'] = 10.50\n",
    "\n",
    "print(grocery)"
   ]
  },
  {
   "cell_type": "markdown",
   "metadata": {},
   "source": [
    "Values of the dictionaries could be anything, even another dictionary."
   ]
  },
  {
   "cell_type": "code",
   "execution_count": 4,
   "metadata": {},
   "outputs": [
    {
     "name": "stdout",
     "output_type": "stream",
     "text": [
      "{'egg': 2.75, 'bread': 4.5, 'milk': 3, 'cake': 10.5, 'fruit': {'apples': 4.75, 'bananas': 0.8}}\n",
      "4.75\n"
     ]
    }
   ],
   "source": [
    "grocery['fruit'] = {'apples':4.75, 'bananas':0.80}\n",
    "\n",
    "print(grocery)\n",
    "print(grocery['fruit']['apples'])"
   ]
  },
  {
   "cell_type": "markdown",
   "metadata": {},
   "source": [
    "Methods and functions that can be applied to dictionaries:\n",
    "* `len()` returns the size of the dictionary.\n",
    "* `.keys()` returns the keys of the dictionary as an iterable.\n",
    "* `.values()` returns the values of the dictionary as an iterable.\n",
    "* `.items()` returns the items (pairs of keys and values) of the dictionary as an iterable.\n",
    "* `.get()` returns the value associated with a key. This is just like using the brackets `[]` expcet that if the key is not part of the dictionary, this methods returns `None` unlike the brackets which return an error. This method allows for a second argument the return instead of `None' in case the key is not found.\n",
    "* `del` to delet an item from the dictionary based on a key value."
   ]
  },
  {
   "cell_type": "code",
   "execution_count": 5,
   "metadata": {},
   "outputs": [
    {
     "name": "stdout",
     "output_type": "stream",
     "text": [
      "dict_keys(['a', 'b', 'c', 'd'])\n",
      "dict_values([1, 2, 3, 4])\n",
      "dict_items([('a', 1), ('b', 2), ('c', 3), ('d', 4)])\n",
      "None\n",
      "The key is not in the dictionay.\n",
      "{'b': 2, 'c': 3, 'd': 4}\n"
     ]
    }
   ],
   "source": [
    "my_dictionary = {'a':1, 'b':2, 'c':3, 'd':4}\n",
    "\n",
    "print(my_dictionary.keys())\n",
    "print(my_dictionary.values())\n",
    "print(my_dictionary.items())\n",
    "print(my_dictionary.get('e'))\n",
    "print(my_dictionary.get('e', 'The key is not in the dictionay.'))\n",
    "\n",
    "del my_dictionary['a']\n",
    "\n",
    "print(my_dictionary)"
   ]
  },
  {
   "cell_type": "markdown",
   "metadata": {},
   "source": [
    "The `.get()` method is useful for conditional statements."
   ]
  },
  {
   "cell_type": "code",
   "execution_count": 6,
   "metadata": {},
   "outputs": [
    {
     "name": "stdout",
     "output_type": "stream",
     "text": [
      "Les dictionnaires ne contient pas e\n"
     ]
    }
   ],
   "source": [
    "my_dictionary = {'a':1, 'b':2, 'c':3, 'd':4}\n",
    "if my_dictionary.get('e')==None:\n",
    "    print('Les dictionnaires ne contient pas e')\n",
    "else:\n",
    "    print(f\"la valeur de e est {my_dictionary.get('a')}.\")"
   ]
  },
  {
   "cell_type": "markdown",
   "metadata": {},
   "source": [
    "Dictionaries are iterables. We can travel through them using `for` loops. By default, the loop returns the keys of the dictionary."
   ]
  },
  {
   "cell_type": "code",
   "execution_count": 7,
   "metadata": {},
   "outputs": [],
   "source": [
    "my_dictionary = {'a':1, 'b':2, 'c':3, 'd':4}"
   ]
  },
  {
   "cell_type": "code",
   "execution_count": 8,
   "metadata": {},
   "outputs": [
    {
     "name": "stdout",
     "output_type": "stream",
     "text": [
      "key : a, value : 1\n",
      "key : b, value : 2\n",
      "key : c, value : 3\n",
      "key : d, value : 4\n"
     ]
    }
   ],
   "source": [
    "for key in my_dictionary:\n",
    "    print(f'key : {key}, value : {my_dictionary[key]}')"
   ]
  },
  {
   "cell_type": "markdown",
   "metadata": {},
   "source": [
    "We can also implicitely loop on keys."
   ]
  },
  {
   "cell_type": "code",
   "execution_count": 9,
   "metadata": {},
   "outputs": [
    {
     "name": "stdout",
     "output_type": "stream",
     "text": [
      "key : a, value : 1\n",
      "key : b, value : 2\n",
      "key : c, value : 3\n",
      "key : d, value : 4\n"
     ]
    }
   ],
   "source": [
    "for key in my_dictionary.keys():\n",
    "    print(f'key : {key}, value : {my_dictionary[key]}')"
   ]
  },
  {
   "cell_type": "markdown",
   "metadata": {},
   "source": [
    "We can also loop on values, but in this case, we can't get the keys."
   ]
  },
  {
   "cell_type": "code",
   "execution_count": 10,
   "metadata": {},
   "outputs": [
    {
     "name": "stdout",
     "output_type": "stream",
     "text": [
      "? : 1\n",
      "? : 2\n",
      "? : 3\n",
      "? : 4\n"
     ]
    }
   ],
   "source": [
    "for value in my_dictionary.values():\n",
    "    print(f'? : {value}')"
   ]
  },
  {
   "cell_type": "markdown",
   "metadata": {},
   "source": [
    "We can finally loop on items and acces keys and items with brackets `[]`."
   ]
  },
  {
   "cell_type": "code",
   "execution_count": 11,
   "metadata": {},
   "outputs": [
    {
     "name": "stdout",
     "output_type": "stream",
     "text": [
      "Item : ('a', 1), key : a, value : 1\n",
      "Item : ('b', 2), key : b, value : 2\n",
      "Item : ('c', 3), key : c, value : 3\n",
      "Item : ('d', 4), key : d, value : 4\n"
     ]
    }
   ],
   "source": [
    "for item in my_dictionary.items():\n",
    "    print(f'Item : {item}, key : {item[0]}, value : {item[1]}')"
   ]
  },
  {
   "cell_type": "markdown",
   "metadata": {},
   "source": [
    "We can also seperate keys and values from the items."
   ]
  },
  {
   "cell_type": "code",
   "execution_count": 12,
   "metadata": {},
   "outputs": [
    {
     "name": "stdout",
     "output_type": "stream",
     "text": [
      "key : a, value : 1\n",
      "key : b, value : 2\n",
      "key : c, value : 3\n",
      "key : d, value : 4\n"
     ]
    }
   ],
   "source": [
    "for key, value in my_dictionary.items():\n",
    "    print(f'key : {key}, value : {value}')"
   ]
  },
  {
   "cell_type": "markdown",
   "metadata": {},
   "source": [
    "### COPIIIIIIIIIIIIIIIES"
   ]
  },
  {
   "cell_type": "markdown",
   "metadata": {},
   "source": [
    "We can use `.copy()` to make a deep copy of the dictionary. The operator `=` only makes shallow copies."
   ]
  },
  {
   "cell_type": "code",
   "execution_count": null,
   "metadata": {},
   "outputs": [],
   "source": [
    "my_dictionary = {'a':1, 'b':2, 'c':3, 'd':4}\n",
    "\n",
    "shallow_copy = my_dictionary\n",
    "deep_copy = my_dictionary.copy()\n",
    "\n",
    "my_dictionary['d'] = 400\n",
    "\n",
    "print(f'shallow copy is modified after assignation : {shallow_copy}')\n",
    "print(f'Not a deep copy : {deep_copy}')"
   ]
  }
 ],
 "metadata": {
  "kernelspec": {
   "display_name": "thewalrus",
   "language": "python",
   "name": "python3"
  },
  "language_info": {
   "codemirror_mode": {
    "name": "ipython",
    "version": 3
   },
   "file_extension": ".py",
   "mimetype": "text/x-python",
   "name": "python",
   "nbconvert_exporter": "python",
   "pygments_lexer": "ipython3",
   "version": "3.8.0"
  }
 },
 "nbformat": 4,
 "nbformat_minor": 2
}
