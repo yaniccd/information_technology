{
 "cells": [
  {
   "cell_type": "markdown",
   "metadata": {},
   "source": [
    "if, while, for\n",
    "\n",
    "iterables\n",
    "\n",
    "dictionaries\n",
    "\n",
    "tuples"
   ]
  },
  {
   "cell_type": "code",
   "execution_count": null,
   "metadata": {},
   "outputs": [],
   "source": [
    "#3.3 L'Enonce Conditionnel\n",
    "#le if (le elif et le else sont optionnel)\n",
    "age = input(\"Entrez votre age : \")\n",
    "age=int(age)\n",
    "if age<18:\n",
    "    print(\"Vous etes jeune!\")\n",
    "elif age<30:\n",
    "    print(\"Vous etes un jeune adulte!\")\n",
    "elif age<60:\n",
    "    print(\"Vous etes un adulte!\")\n",
    "else:\n",
    "    print(\"Vous etes vieux!\")\n",
    "\n",
    "#enonce indente\n",
    "x=True\n",
    "y=True\n",
    "if x:\n",
    "    if y:\n",
    "        print('x et y sont vrais')\n",
    "\n",
    "#nous avons vu le if sous forme d'enonce.\n",
    "#on le retrouve aussi sous forme d'operateur\n",
    "x=True\n",
    "y=33; z=44\n",
    "a = y if x else z\n",
    "print(a)"
   ]
  },
  {
   "cell_type": "markdown",
   "metadata": {},
   "source": [
    "do loops on strings list dic tuples, ect"
   ]
  }
 ],
 "metadata": {
  "language_info": {
   "name": "python"
  }
 },
 "nbformat": 4,
 "nbformat_minor": 2
}
