{
 "cells": [
  {
   "cell_type": "markdown",
   "metadata": {},
   "source": [
    "# Chapter 2\n",
    "# Basic Data Types in Python\n",
    "\n",
    "Important notions of this chapter\n",
    "* **Numbers**: Python distinguish between three types of numbers: integers, reel and complex.\n",
    "* **Strings**: A string is a sequence of characters. It is a data type used to represent text.\n",
    "* **Lists**: A list is a mutable, ordered collection of elements. Lists can contain elements of different data types, and you can modify them by adding or removing elements. "
   ]
  },
  {
   "cell_type": "markdown",
   "metadata": {},
   "source": [
    "### Numbers\n",
    "\n",
    "Python distinguish between three types of numbers: integers `int`, reel `float` and complex `complex`. Python does an implicit type conversion, meaning that the addition of an `int` and a `float` while return a `float`. The function `type()` let you know what is the type of a certain variable."
   ]
  },
  {
   "cell_type": "code",
   "execution_count": 4,
   "metadata": {},
   "outputs": [
    {
     "name": "stdout",
     "output_type": "stream",
     "text": [
      "x+y returns 7 and its type is <class 'int'>\n",
      "x+z returns 7.0 and its type is <class 'float'>\n"
     ]
    }
   ],
   "source": [
    "x = 3 #integer\n",
    "y = 4 #integer\n",
    "z = 4.0 #float\n",
    "\n",
    "print(f'x+y returns {x+y} and its type is {type(x+y)}')\n",
    "print(f'x+z returns {x+z} and its type is {type(x+z)}')"
   ]
  },
  {
   "cell_type": "markdown",
   "metadata": {},
   "source": [
    "Functions `int()`, `float()` and `complex()` can be used to make conversions. The function `int()` will truncate a `float` variable."
   ]
  },
  {
   "cell_type": "code",
   "execution_count": 6,
   "metadata": {},
   "outputs": [
    {
     "name": "stdout",
     "output_type": "stream",
     "text": [
      "x = 4.0 is now a <class 'float'>.\n"
     ]
    }
   ],
   "source": [
    "x = 4 #integer\n",
    "x = float(x)\n",
    "print(f'x = {x} is now a {type(x)}.')\n"
   ]
  },
  {
   "cell_type": "code",
   "execution_count": 5,
   "metadata": {},
   "outputs": [
    {
     "name": "stdout",
     "output_type": "stream",
     "text": [
      "y as been trucated to 4.\n"
     ]
    }
   ],
   "source": [
    "y  = 4.9\n",
    "y = int(y)\n",
    "print(f'y as been trucated to {y}.')"
   ]
  },
  {
   "cell_type": "markdown",
   "metadata": {},
   "source": [
    "We create a complexe number either by using the function `complexe()` or using `j` as the imaginary unit. We acces it real and imaginary parts using `.real` and `.imag`."
   ]
  },
  {
   "cell_type": "code",
   "execution_count": 14,
   "metadata": {},
   "outputs": [
    {
     "name": "stdout",
     "output_type": "stream",
     "text": [
      "z=(-2+5j) is a <class 'complex'>\n",
      "w=(3+4j) is a <class 'complex'>\n",
      "The real part of z is -2.0\n",
      "The imaginary part of z is 5.0\n"
     ]
    }
   ],
   "source": [
    "z = -2+5j\n",
    "print(f'z={z} is a {type(z)}')\n",
    "\n",
    "x = 3\n",
    "y = 4\n",
    "w = complex(x,y)\n",
    "print(f'w={w} is a {type(w)}')\n",
    "\n",
    "z_real = z.real\n",
    "z_imaginary = z.imag\n",
    "print(f'The real part of z is {z_real}')\n",
    "print(f'The imaginary part of z is {z_imaginary}')"
   ]
  },
  {
   "cell_type": "markdown",
   "metadata": {},
   "source": [
    "We can add, multiply, substract and divide complex numbers with the usual operators."
   ]
  },
  {
   "cell_type": "code",
   "execution_count": 17,
   "metadata": {},
   "outputs": [
    {
     "name": "stdout",
     "output_type": "stream",
     "text": [
      "z + w = (1+9j)\n",
      "z - w = (-5+1j)\n",
      "z * w = (-26+7j)\n",
      "z / w = (0.56+0.92j)\n"
     ]
    }
   ],
   "source": [
    "print(f'z + w = {z+w}')\n",
    "print(f'z - w = {z-w}')\n",
    "print(f'z * w = {z*w}')\n",
    "print(f'z / w = {z/w}')"
   ]
  },
  {
   "cell_type": "markdown",
   "metadata": {},
   "source": [
    "Use both `'` and `\"` for `strings`."
   ]
  }
 ],
 "metadata": {
  "kernelspec": {
   "display_name": "thewalrus",
   "language": "python",
   "name": "python3"
  },
  "language_info": {
   "codemirror_mode": {
    "name": "ipython",
    "version": 3
   },
   "file_extension": ".py",
   "mimetype": "text/x-python",
   "name": "python",
   "nbconvert_exporter": "python",
   "pygments_lexer": "ipython3",
   "version": "3.8.0"
  }
 },
 "nbformat": 4,
 "nbformat_minor": 2
}
