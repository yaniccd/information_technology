{
 "cells": [
  {
   "cell_type": "markdown",
   "metadata": {},
   "source": [
    "# Chapter 2\n",
    "# Basic Data Types in Python\n",
    "\n",
    "Important notions of this chapter\n",
    "* **Numbers**: Python distinguish between three types of numbers: integers, reel and complex.\n",
    "* **Booleans**: In Python, the Boolean type is a built-in data type that represents the two truth values: `True` and `False`. Booleans are often used in conditional expressions and logical operations to make decisions and control the flow of a program.\n",
    "* **Strings**: A string is a sequence of characters. It is a data type used to represent text.\n",
    "* **Lists**: A list is a mutable, ordered collection of elements. Lists can contain elements of different data types, and you can modify them by adding or removing elements.\n",
    "* **Sets**: Sets are unordered collection of unique elements."
   ]
  },
  {
   "cell_type": "markdown",
   "metadata": {},
   "source": [
    "### Numbers\n",
    "\n",
    "Python distinguish between three types of numbers: integers `int`, reel `float` and complex `complex`. Python does an implicit type conversion, meaning that the addition of an `int` and a `float` while return a `float`. The function `type()` let you know what is the type of a certain variable."
   ]
  },
  {
   "cell_type": "code",
   "execution_count": 4,
   "metadata": {},
   "outputs": [
    {
     "name": "stdout",
     "output_type": "stream",
     "text": [
      "x+y returns 7 and its type is <class 'int'>\n",
      "x+z returns 7.0 and its type is <class 'float'>\n"
     ]
    }
   ],
   "source": [
    "x = 3 #integer\n",
    "y = 4 #integer\n",
    "z = 4.0 #float\n",
    "\n",
    "print(f'x+y returns {x+y} and its type is {type(x+y)}')\n",
    "print(f'x+z returns {x+z} and its type is {type(x+z)}')"
   ]
  },
  {
   "cell_type": "markdown",
   "metadata": {},
   "source": [
    "Functions `int()`, `float()` and `complex()` can be used to make conversions. The function `int()` will truncate a `float` variable."
   ]
  },
  {
   "cell_type": "code",
   "execution_count": 6,
   "metadata": {},
   "outputs": [
    {
     "name": "stdout",
     "output_type": "stream",
     "text": [
      "x = 4.0 is now a <class 'float'>.\n"
     ]
    }
   ],
   "source": [
    "x = 4 #integer\n",
    "x = float(x)\n",
    "print(f'x = {x} is now a {type(x)}.')\n"
   ]
  },
  {
   "cell_type": "code",
   "execution_count": 5,
   "metadata": {},
   "outputs": [
    {
     "name": "stdout",
     "output_type": "stream",
     "text": [
      "y as been trucated to 4.\n"
     ]
    }
   ],
   "source": [
    "y  = 4.9\n",
    "y = int(y)\n",
    "print(f'y as been trucated to {y}.')"
   ]
  },
  {
   "cell_type": "markdown",
   "metadata": {},
   "source": [
    "We create a complexe number either by using the function `complexe()` or using `j` as the imaginary unit. We acces it real and imaginary parts using `.real` and `.imag`."
   ]
  },
  {
   "cell_type": "code",
   "execution_count": 14,
   "metadata": {},
   "outputs": [
    {
     "name": "stdout",
     "output_type": "stream",
     "text": [
      "z=(-2+5j) is a <class 'complex'>\n",
      "w=(3+4j) is a <class 'complex'>\n",
      "The real part of z is -2.0\n",
      "The imaginary part of z is 5.0\n"
     ]
    }
   ],
   "source": [
    "z = -2+5j\n",
    "print(f'z={z} is a {type(z)}')\n",
    "\n",
    "x = 3\n",
    "y = 4\n",
    "w = complex(x,y) # x is the real part, y is the imaginary part\n",
    "print(f'w={w} is a {type(w)}')\n",
    "\n",
    "z_real = z.real\n",
    "z_imaginary = z.imag\n",
    "print(f'The real part of z is {z_real}')\n",
    "print(f'The imaginary part of z is {z_imaginary}')"
   ]
  },
  {
   "cell_type": "markdown",
   "metadata": {},
   "source": [
    "We can add, multiply, substract and divide complex numbers with the usual operators."
   ]
  },
  {
   "cell_type": "code",
   "execution_count": 17,
   "metadata": {},
   "outputs": [
    {
     "name": "stdout",
     "output_type": "stream",
     "text": [
      "z + w = (1+9j)\n",
      "z - w = (-5+1j)\n",
      "z * w = (-26+7j)\n",
      "z / w = (0.56+0.92j)\n"
     ]
    }
   ],
   "source": [
    "print(f'z + w = {z+w}')\n",
    "print(f'z - w = {z-w}')\n",
    "print(f'z * w = {z*w}')\n",
    "print(f'z / w = {z/w}')"
   ]
  },
  {
   "cell_type": "markdown",
   "metadata": {},
   "source": [
    "### Booleans\n",
    "\n",
    "In Python, the Boolean type is a built-in data type that represents the two truth values: `True` and `False`. Booleans are often used in conditional expressions and logical operations to make decisions and control the flow of a program.\n",
    "\n",
    "The boolean operators are\n",
    "* **exp_1 < exp_2** returns `True` if `exp_1` is smaller than `exp_2`\n",
    "* **exp_1 > exp_2** returns `True` if `exp_1` is greater than `exp_2`\n",
    "* **exp_1 == exp_2** returns `True` if `exp_1` and `exp_2` are equal\n",
    "* **exp_1 != exp_2** returns `True` if `exp_1` and `exp_2` are not equal\n",
    "\n",
    "To compare booleans, we use\n",
    "* **boolean_1 and boolean_2** returns `True` if both `boolean_1` and `boolean_2` are `True`\n",
    "* **boolean_1 or boolean_2** returns `False` only if both `boolean_1` and `boolean_2` are `False`\n",
    "\n",
    "Finally, the value of a boolean can be negated with the `not` statement."
   ]
  },
  {
   "cell_type": "code",
   "execution_count": 51,
   "metadata": {},
   "outputs": [
    {
     "name": "stdout",
     "output_type": "stream",
     "text": [
      "3<4 : True\n",
      "3>4 : False\n",
      "3==4 : False\n",
      "3!=4 : True\n",
      "3<4 and 3>5 : False\n",
      "3<4 or 3>5 : True\n",
      "False\n"
     ]
    }
   ],
   "source": [
    "print(f'3<4 : {3<4}')\n",
    "print(f'3>4 : {3>4}')\n",
    "print(f'3==4 : {3==4}')\n",
    "print(f'3!=4 : {3!=4}')\n",
    "print(f'3<4 and 3>5 : {3<4 and 3>5}')\n",
    "print(f'3<4 or 3>5 : {3<4 or 3>5}')\n"
   ]
  },
  {
   "cell_type": "markdown",
   "metadata": {},
   "source": [
    "### Strings\n",
    "\n",
    "A string is a sequence of characters. It is a data type used to represent text. You can use both `'` and `\"` to define a string. In Python, strings are immutable objects, which means their values cannot be changed after they are created."
   ]
  },
  {
   "cell_type": "code",
   "execution_count": 1,
   "metadata": {},
   "outputs": [
    {
     "name": "stdout",
     "output_type": "stream",
     "text": [
      "this is a string.\n"
     ]
    }
   ],
   "source": [
    "x = 'this is a string.'\n",
    "print(x)"
   ]
  },
  {
   "cell_type": "markdown",
   "metadata": {},
   "source": [
    "Some special character :\n",
    "* `\\'` is '\n",
    "* `\\b` erasing caracter\n",
    "* `\\n` line break\n",
    "* `\\t` tabulation\n",
    "* `\\a` bell sound"
   ]
  },
  {
   "cell_type": "markdown",
   "metadata": {},
   "source": [
    "Some of the basic operators on strings :\n",
    "* use `+` to concatenate two strings\n",
    "* strings can be multiplied with `*`\n",
    "* `len()` gives the length of a string.\n",
    "* `int()` can convert a string to an integer"
   ]
  },
  {
   "cell_type": "code",
   "execution_count": 5,
   "metadata": {},
   "outputs": [
    {
     "name": "stdout",
     "output_type": "stream",
     "text": [
      "Petit poisson devient grand.\n"
     ]
    }
   ],
   "source": [
    "a='Petit poisson'\n",
    "b='devient grand.'\n",
    "print(a+' '+b)"
   ]
  },
  {
   "cell_type": "code",
   "execution_count": 6,
   "metadata": {},
   "outputs": [
    {
     "name": "stdout",
     "output_type": "stream",
     "text": [
      "4\n"
     ]
    }
   ],
   "source": [
    "c='allo'\n",
    "d=len(c)\n",
    "print(d)"
   ]
  },
  {
   "cell_type": "code",
   "execution_count": 9,
   "metadata": {},
   "outputs": [
    {
     "name": "stdout",
     "output_type": "stream",
     "text": [
      "Un chat noir.\n"
     ]
    }
   ],
   "source": [
    "phrase = \"Un chat\"\n",
    "phrase += \" noir.\"\n",
    "print(phrase)"
   ]
  },
  {
   "cell_type": "code",
   "execution_count": 10,
   "metadata": {},
   "outputs": [
    {
     "name": "stdout",
     "output_type": "stream",
     "text": [
      "8867\n"
     ]
    }
   ],
   "source": [
    "c=\"8866\"\n",
    "c=int(c)\n",
    "print(c+1)"
   ]
  },
  {
   "cell_type": "code",
   "execution_count": 11,
   "metadata": {},
   "outputs": [
    {
     "name": "stdout",
     "output_type": "stream",
     "text": [
      "allo allo allo allo allo \n"
     ]
    }
   ],
   "source": [
    "print('allo '*5)"
   ]
  },
  {
   "cell_type": "markdown",
   "metadata": {},
   "source": [
    "By default, the `print()` statement ends with a line break. We can change that through the `end` argument."
   ]
  },
  {
   "cell_type": "code",
   "execution_count": 15,
   "metadata": {},
   "outputs": [
    {
     "name": "stdout",
     "output_type": "stream",
     "text": [
      "Hello world!\n"
     ]
    }
   ],
   "source": [
    "print(\"Hello\", end=\" \")\n",
    "print(\"world!\")"
   ]
  },
  {
   "cell_type": "markdown",
   "metadata": {},
   "source": [
    "We use the brackets `[]` for string indexation. There are three possible arguments. \n",
    "\n",
    "* `a` to specify a string index. Python like many other langages, starts its idexation at 0, meaning that the first element of a string `x` would be `x[0]`, while the last element of the string is its length minus one.\n",
    "\n",
    "* `-a` is used the start counting from the end of the string.\n",
    "\n",
    "* `a:b` is used to specify a string section. The count starts at a and ends a b-1. For exemple, the section 2:4, would yield 2 characters since the character 4 is excluded. We can use the notation `:b` for a section that starts at the beginning of the string and `a:` for one that go until the end of the string.\n",
    "\n",
    "* `a:b:c`, in this case `c` specifies the step. For example, `::-1` can reverse the string."
   ]
  },
  {
   "cell_type": "code",
   "execution_count": 28,
   "metadata": {},
   "outputs": [
    {
     "name": "stdout",
     "output_type": "stream",
     "text": [
      "The index 0 of string is H\n",
      "The index 4 of string is o\n",
      "The index -2 of string is d\n",
      "The section 2:4 of string is ll\n",
      "The section 2:12:2 of string is lowrd\n",
      "We can reverse the order of the string with ::-1 as such !dlrow olleH\n"
     ]
    }
   ],
   "source": [
    "string = 'Hello world!'\n",
    "print(f'The index 0 of string is {string[0]}')\n",
    "print(f'The index 4 of string is {string[4]}')\n",
    "print(f'The index -2 of string is {string[-2]}')\n",
    "print(f'The section 2:4 of string is {string[2:4]}')\n",
    "print(f'The section 2:12:2 of string is {string[2:12:2]}')\n",
    "print(f'We can reverse the order of the string with ::-1 as such {string[::-1]}')"
   ]
  },
  {
   "cell_type": "markdown",
   "metadata": {},
   "source": [
    "Some other methods implement in the string data type. Remember that strings are immutable objects, thus when using methods on a string, it doesn't modify the existing string; instead, it creates a new string with the specified replacements. The cheanges have to be affected to a new variable in order for the changes to be saved.\n",
    "\n",
    "* `.count()` counts the number of occurence of a certain substring.\n",
    "\n",
    "* `.find()` finds the first position of a certain occurence.\n",
    "\n",
    "* `.isdigit()` returns true if the string is a number\n",
    "\n",
    "* `.lower()` returns the string in lower case.\n",
    "\n",
    "* `.upper()` returns the string in upper case.\n",
    "\n",
    "* `.replace()` to replace a certain ocurrence by another.\n",
    "\n",
    "* `.split()` returns a list of words in the sentence.\n",
    "\n",
    "* `lstrip()` remove leading (leftmost) whitespace characters from a string."
   ]
  },
  {
   "cell_type": "code",
   "execution_count": 1,
   "metadata": {},
   "outputs": [
    {
     "name": "stdout",
     "output_type": "stream",
     "text": [
      "4\n",
      "4\n",
      "False\n",
      "the world belong to those who wake up early!\n",
      "THE WORLD BELONG TO THOSE WHO WAKE UP EARLY!\n",
      "The vorld BELONG to those vho vake up early!\n",
      "['The', 'world', 'BELONG', 'to', 'those', 'who', 'wake', 'up', 'early!']\n"
     ]
    }
   ],
   "source": [
    "sentence = 'The world BELONG to those who wake up early!'\n",
    "print(sentence.count('o'))\n",
    "print(sentence.find('w'))\n",
    "print(sentence.isdigit())\n",
    "print(sentence.lower())\n",
    "print(sentence.upper())\n",
    "print(sentence.replace('w', 'v'))\n",
    "print(sentence.split())"
   ]
  },
  {
   "cell_type": "code",
   "execution_count": 4,
   "metadata": {},
   "outputs": [
    {
     "name": "stdout",
     "output_type": "stream",
     "text": [
      "original_sentence = The original sentence is left unchanged.\n",
      "new_sentence = The new sentence is modified.\n"
     ]
    }
   ],
   "source": [
    "original_sentence = 'The original sentence is left unchanged.'\n",
    "new_sentence = original_sentence.replace('original', 'new').replace('left unchanged', 'modified')\n",
    "\n",
    "print(f'original_sentence = {original_sentence}')\n",
    "print(f'new_sentence = {new_sentence}')"
   ]
  },
  {
   "cell_type": "markdown",
   "metadata": {},
   "source": [
    "### List\n",
    "\n",
    "A list is a mutable, ordered collection of elements. Mutable meaning that unlike strings, the can be modified. Lists can contain elements of different data types, and can be modified by adding or removing elements. There are defined using the brackets `[].`"
   ]
  },
  {
   "cell_type": "code",
   "execution_count": 5,
   "metadata": {},
   "outputs": [
    {
     "name": "stdout",
     "output_type": "stream",
     "text": [
      "This is an empty list : []\n"
     ]
    }
   ],
   "source": [
    "empty_list = []\n",
    "print(f'This is an empty list : {empty_list}')"
   ]
  },
  {
   "cell_type": "code",
   "execution_count": 6,
   "metadata": {},
   "outputs": [
    {
     "name": "stdout",
     "output_type": "stream",
     "text": [
      "This is also a list [1, 2, 3, 4]\n"
     ]
    }
   ],
   "source": [
    "my_list = [1,2,3,4]\n",
    "print(f'This is also a list : {my_list}')"
   ]
  },
  {
   "cell_type": "markdown",
   "metadata": {},
   "source": [
    "Just like strings, elements of list can be acces through brackets. The slicing of a list is done in the same way as for strings."
   ]
  },
  {
   "cell_type": "code",
   "execution_count": 37,
   "metadata": {},
   "outputs": [
    {
     "name": "stdout",
     "output_type": "stream",
     "text": [
      "3\n",
      "[4, 5, 6]\n",
      "[3, 5, 7]\n",
      "[10, 9, 8, 7, 6, 5, 4, 3, 2, 1]\n"
     ]
    }
   ],
   "source": [
    "my_list = [1,2,3,4,5,6,7,8,9,10]\n",
    "print(my_list[2])\n",
    "print(my_list[3:6])\n",
    "print(my_list[2:8:2])\n",
    "print(my_list[::-1])"
   ]
  },
  {
   "cell_type": "markdown",
   "metadata": {},
   "source": [
    "We can even build lists of lists. THe double brackets `[][]` are used to acces a element of a list within a list. (This concept is quite useful to implement matrices.)"
   ]
  },
  {
   "cell_type": "code",
   "execution_count": 16,
   "metadata": {},
   "outputs": [
    {
     "name": "stdout",
     "output_type": "stream",
     "text": [
      "[1, 2, 3]\n",
      "3\n"
     ]
    }
   ],
   "source": [
    "list_list = ['a', [1,2,3], 'b']\n",
    "sub_list = list_list[1]\n",
    "sub_element = list_list[1][2]\n",
    "\n",
    "print(sub_list)\n",
    "print(sub_element)"
   ]
  },
  {
   "cell_type": "markdown",
   "metadata": {},
   "source": [
    "lists support the operators `+` and `*`."
   ]
  },
  {
   "cell_type": "code",
   "execution_count": 47,
   "metadata": {},
   "outputs": [
    {
     "name": "stdout",
     "output_type": "stream",
     "text": [
      "[1, 2, 3, 1, 2, 3, 4, 5, 6]\n",
      "[1, 2, 3, 1, 2, 3, 4, 5, 6]\n"
     ]
    }
   ],
   "source": [
    "my_list = [1,2,3]\n",
    "my_list = my_list*2\n",
    "my_list = my_list + [4,5,6]\n",
    "\n",
    "print(my_list)\n",
    "\n",
    "my_list2 = [1,2,3]\n",
    "my_list2 *= 2\n",
    "my_list2 += [4,5,6]\n",
    "\n",
    "print(my_list2)"
   ]
  },
  {
   "cell_type": "markdown",
   "metadata": {},
   "source": [
    "Lists also support bolean operators. The operators `<`, `>`, `==` and `!=` will compare elements of lists one by one."
   ]
  },
  {
   "cell_type": "code",
   "execution_count": 58,
   "metadata": {},
   "outputs": [
    {
     "name": "stdout",
     "output_type": "stream",
     "text": [
      "[1,2,3,8] < [1,2,5] : True\n",
      "[1,2,3,8] == [1,2,5] : False\n"
     ]
    }
   ],
   "source": [
    "list_1 = [1,2,3,8]\n",
    "list_2 = [1,2,5]\n",
    "\n",
    "print(f'[1,2,3,8] < [1,2,5] : {list_1 < list_2}')\n",
    "print(f'[1,2,3,8] == [1,2,5] : {list_1 == list_2}')"
   ]
  },
  {
   "cell_type": "markdown",
   "metadata": {},
   "source": [
    "Methods and functions applicable to lists\n",
    "\n",
    "* `len()` returns the length of the list.\n",
    "\n",
    "* `list()` turn an iterable into a list. The concept of iterable will come back later. For now, it is sufficent to know that strings are iterables.\n",
    "\n",
    "* `.append()` to add an element at the end of the list.\n",
    "\n",
    "* `.extend()` to extend the list with another list.\n",
    "\n",
    "* `.reverse()` to reverse the list.\n",
    "\n",
    "* `.sort()` to sort the list.\n",
    "\n",
    "* `.pop()` to remove the last element.\n",
    "\n",
    "* `.index()` returns the last element of the last matching the argument.\n",
    "\n",
    "* `.insert()` inserts a value at a specific index. The element of this index and all subsequent indices are pushed. We can use this with `index()` to insert an element in front of a specif other element.\n",
    "\n",
    "* `.remove()` to remove the first element matching a specific value. We remove by value and not by indices. Only the first element matching the search is removed!\n",
    "\n",
    "* `del my_list[]` to remove a specific element.\n",
    "\n",
    "* `.join()` turns a list into a string joined by a specific chain of caracters. This method acts on a string and not on the list itself. See example belong.\n",
    "\n",
    "Before running the following, try writing down the output.\n",
    "\n"
   ]
  },
  {
   "cell_type": "code",
   "execution_count": 35,
   "metadata": {},
   "outputs": [
    {
     "name": "stdout",
     "output_type": "stream",
     "text": [
      "The list is [2, 3, 9, 5, 2, 1, 6, 7], its length is 8.\n"
     ]
    }
   ],
   "source": [
    "my_list_1 = [1,2,3,4,5]\n",
    "my_list_2 = [1,6,7,8]\n",
    "\n",
    "my_list_1.append(2)\n",
    "my_list_1.extend(my_list_2)\n",
    "\n",
    "my_list_1.remove(1)\n",
    "\n",
    "my_list_1.pop()\n",
    "\n",
    "del my_list_1[2]\n",
    "\n",
    "my_list_1.insert(my_list_1.index(5), 9)\n",
    "\n",
    "print(f'The list is {my_list_1}, its length is {len(my_list_1)}.')"
   ]
  },
  {
   "cell_type": "markdown",
   "metadata": {},
   "source": [
    "Other examples."
   ]
  },
  {
   "cell_type": "code",
   "execution_count": 36,
   "metadata": {},
   "outputs": [
    {
     "name": "stdout",
     "output_type": "stream",
     "text": [
      "[' ', ' ', ' ', '.', 'T', 'a', 'c', 'e', 'e', 'e', 'h', 'i', 'i', 'n', 'n', 's', 's', 's', 't']\n"
     ]
    }
   ],
   "source": [
    "my_string = 'This is a sentence.'\n",
    "my_list = list(my_string)\n",
    "my_list.sort()\n",
    "print(my_list)"
   ]
  },
  {
   "cell_type": "code",
   "execution_count": 50,
   "metadata": {},
   "outputs": [
    {
     "name": "stdout",
     "output_type": "stream",
     "text": [
      "I am a cat.\n"
     ]
    }
   ],
   "source": [
    "my_list = ['I', 'am', 'a', 'cat']\n",
    "my_string = ' '.join(my_list) + '.'\n",
    "print(my_string)"
   ]
  },
  {
   "cell_type": "markdown",
   "metadata": {},
   "source": [
    "### Sets\n",
    "\n",
    "Sets are unordered collection of unique elements. They are defined by enclosing a comma-separated sequence of elements within curly braces `{}`. The elements in a set can be of different data types, and duplicates are not allowed. Sets are an essembles of keys. The are dictionaries without values."
   ]
  },
  {
   "cell_type": "markdown",
   "metadata": {},
   "source": [
    "The function `set()` can turn an iterable into a set. All elements of a set are unique. Therefore, this function will ignore repetition."
   ]
  },
  {
   "cell_type": "code",
   "execution_count": 99,
   "metadata": {},
   "outputs": [
    {
     "name": "stdout",
     "output_type": "stream",
     "text": [
      "{'s', 'n', 'e', 't', 'c'}\n"
     ]
    }
   ],
   "source": [
    "my_string = 'sentence'\n",
    "my_set = set(my_string)\n",
    "print(my_set)"
   ]
  },
  {
   "cell_type": "markdown",
   "metadata": {},
   "source": [
    "Sets operators\n",
    "\n",
    "* `|` ss the reunion.\n",
    "* `&` is the itersection.\n",
    "* `-` is the difference. (What is in set1 minus what is in set2. What is unique to set 1)\n",
    "* `^` is the symmetric difference. (What is unique to both set1 and set2)\n",
    "\n",
    "The symmetric difference is equal to the reunion of the difference taken on both sides."
   ]
  },
  {
   "cell_type": "code",
   "execution_count": 105,
   "metadata": {},
   "outputs": [
    {
     "name": "stdout",
     "output_type": "stream",
     "text": [
      "set1 = {'a', 'c', 'b', 'd'}\n",
      "set2 = {'d', 'b', 'e', 'f', 'c'}\n",
      "set1 | set2 = {'d', 'a', 'b', 'e', 'f', 'c'}\n",
      "set1 & set2 = {'b', 'c', 'd'}\n",
      "set1 - set2 = {'a'}\n",
      "set1 ^ set2 = {'e', 'a', 'f'}\n"
     ]
    }
   ],
   "source": [
    "set1 = {'a', 'b', 'c', 'd'}\n",
    "set2 = {'b', 'c', 'd', 'e', 'f'}\n",
    "\n",
    "print(f'set1 = {set1}')\n",
    "print(f'set2 = {set2}')\n",
    "print(f'set1 | set2 = {set1|set2}')\n",
    "print(f'set1 & set2 = {set1&set2}')\n",
    "print(f'set1 - set2 = {set1-set2}')\n",
    "print(f'set1 ^ set2 = {set1^set2}')"
   ]
  },
  {
   "cell_type": "code",
   "execution_count": 106,
   "metadata": {},
   "outputs": [
    {
     "name": "stdout",
     "output_type": "stream",
     "text": [
      "set1 ^ set2 = {'e', 'a', 'f'}\n",
      "(set1 - set2) | (set2 - set1) = {'f', 'a', 'e'}\n"
     ]
    }
   ],
   "source": [
    "print(f'set1 ^ set2 = {set1^set2}')\n",
    "print(f'(set1 - set2) | (set2 - set1) = {(set1 - set2) | (set2 - set1)}')"
   ]
  },
  {
   "cell_type": "markdown",
   "metadata": {},
   "source": [
    "The sets methods\n",
    "\n",
    "* `.add()` to add an element to a set.\n",
    "* `.remove()` to remove an element from a set.\n",
    "* `.update()` to append a set to another set."
   ]
  },
  {
   "cell_type": "code",
   "execution_count": 114,
   "metadata": {},
   "outputs": [
    {
     "name": "stdout",
     "output_type": "stream",
     "text": [
      "{'a', 'z', 'b'}\n",
      "{'z', 'b'}\n",
      "{'b', 'z', 'c', 'd'}\n"
     ]
    }
   ],
   "source": [
    "set1 = {'a', 'b'}\n",
    "set2 = {'c', 'd'}\n",
    "\n",
    "set1.add('z')\n",
    "print(set1)\n",
    "\n",
    "set1.remove('a')\n",
    "print(set1)\n",
    "\n",
    "set1.update(set2)\n",
    "print(set1)"
   ]
  }
 ],
 "metadata": {
  "kernelspec": {
   "display_name": "thewalrus",
   "language": "python",
   "name": "python3"
  },
  "language_info": {
   "codemirror_mode": {
    "name": "ipython",
    "version": 3
   },
   "file_extension": ".py",
   "mimetype": "text/x-python",
   "name": "python",
   "nbconvert_exporter": "python",
   "pygments_lexer": "ipython3",
   "version": "3.8.0"
  }
 },
 "nbformat": 4,
 "nbformat_minor": 2
}
