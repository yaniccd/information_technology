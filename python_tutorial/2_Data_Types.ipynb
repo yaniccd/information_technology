{
 "cells": [
  {
   "cell_type": "markdown",
   "metadata": {},
   "source": [
    "# Chapter 2\n",
    "# Basic Data Types in Python\n",
    "\n",
    "Important notions of this chapter\n",
    "* **Numbers**: Python distinguish between three types of numbers: integers, reel and complex.\n",
    "* **Strings**: A string is a sequence of characters. It is a data type used to represent text.\n",
    "* **Lists**: A list is a mutable, ordered collection of elements. Lists can contain elements of different data types, and you can modify them by adding or removing elements. "
   ]
  },
  {
   "cell_type": "markdown",
   "metadata": {},
   "source": [
    "### Numbers\n",
    "\n",
    "Python distinguish between three types of numbers: integers `int`, reel `float` and complex `complex`. Python does an implicit type conversion, meaning that the addition of an `int` and a `float` while return a `float`. The function `type()` let you know what is the type of a certain variable."
   ]
  },
  {
   "cell_type": "code",
   "execution_count": 4,
   "metadata": {},
   "outputs": [
    {
     "name": "stdout",
     "output_type": "stream",
     "text": [
      "x+y returns 7 and its type is <class 'int'>\n",
      "x+z returns 7.0 and its type is <class 'float'>\n"
     ]
    }
   ],
   "source": [
    "x = 3 #integer\n",
    "y = 4 #integer\n",
    "z = 4.0 #float\n",
    "\n",
    "print(f'x+y returns {x+y} and its type is {type(x+y)}')\n",
    "print(f'x+z returns {x+z} and its type is {type(x+z)}')"
   ]
  },
  {
   "cell_type": "markdown",
   "metadata": {},
   "source": [
    "Functions `int()`, `float()` and `complex()` can be used to make conversions. The function `int()` will truncate a `float` variable."
   ]
  },
  {
   "cell_type": "code",
   "execution_count": 6,
   "metadata": {},
   "outputs": [
    {
     "name": "stdout",
     "output_type": "stream",
     "text": [
      "x = 4.0 is now a <class 'float'>.\n"
     ]
    }
   ],
   "source": [
    "x = 4 #integer\n",
    "x = float(x)\n",
    "print(f'x = {x} is now a {type(x)}.')\n"
   ]
  },
  {
   "cell_type": "code",
   "execution_count": 5,
   "metadata": {},
   "outputs": [
    {
     "name": "stdout",
     "output_type": "stream",
     "text": [
      "y as been trucated to 4.\n"
     ]
    }
   ],
   "source": [
    "y  = 4.9\n",
    "y = int(y)\n",
    "print(f'y as been trucated to {y}.')"
   ]
  },
  {
   "cell_type": "markdown",
   "metadata": {},
   "source": [
    "We create a complexe number either by using the function `complexe()` or using `j` as the imaginary unit. We acces it real and imaginary parts using `.real` and `.imag`."
   ]
  },
  {
   "cell_type": "code",
   "execution_count": 14,
   "metadata": {},
   "outputs": [
    {
     "name": "stdout",
     "output_type": "stream",
     "text": [
      "z=(-2+5j) is a <class 'complex'>\n",
      "w=(3+4j) is a <class 'complex'>\n",
      "The real part of z is -2.0\n",
      "The imaginary part of z is 5.0\n"
     ]
    }
   ],
   "source": [
    "z = -2+5j\n",
    "print(f'z={z} is a {type(z)}')\n",
    "\n",
    "x = 3\n",
    "y = 4\n",
    "w = complex(x,y) # x is the real part, y is the imaginary part\n",
    "print(f'w={w} is a {type(w)}')\n",
    "\n",
    "z_real = z.real\n",
    "z_imaginary = z.imag\n",
    "print(f'The real part of z is {z_real}')\n",
    "print(f'The imaginary part of z is {z_imaginary}')"
   ]
  },
  {
   "cell_type": "markdown",
   "metadata": {},
   "source": [
    "We can add, multiply, substract and divide complex numbers with the usual operators."
   ]
  },
  {
   "cell_type": "code",
   "execution_count": 17,
   "metadata": {},
   "outputs": [
    {
     "name": "stdout",
     "output_type": "stream",
     "text": [
      "z + w = (1+9j)\n",
      "z - w = (-5+1j)\n",
      "z * w = (-26+7j)\n",
      "z / w = (0.56+0.92j)\n"
     ]
    }
   ],
   "source": [
    "print(f'z + w = {z+w}')\n",
    "print(f'z - w = {z-w}')\n",
    "print(f'z * w = {z*w}')\n",
    "print(f'z / w = {z/w}')"
   ]
  },
  {
   "cell_type": "markdown",
   "metadata": {},
   "source": [
    "### Strings\n",
    "\n",
    "A string is a sequence of characters. It is a data type used to represent text. You can use both `'` and `\"` to define a string."
   ]
  },
  {
   "cell_type": "code",
   "execution_count": 1,
   "metadata": {},
   "outputs": [
    {
     "name": "stdout",
     "output_type": "stream",
     "text": [
      "this is a string.\n"
     ]
    }
   ],
   "source": [
    "x = 'this is a string.'\n",
    "print(x)"
   ]
  },
  {
   "cell_type": "markdown",
   "metadata": {},
   "source": [
    "Some special character :\n",
    "* `\\'` is '\n",
    "* `\\b` erasing caracter\n",
    "* `\\n` line break\n",
    "* `\\t` tabulation\n",
    "* `\\a` bell sound"
   ]
  },
  {
   "cell_type": "markdown",
   "metadata": {},
   "source": [
    "Some of the basic operators on strings :\n",
    "* use `+` to concatenate two strings\n",
    "* strings can be multiplied with `*`\n",
    "* `len()` gives the length of a string.\n",
    "* `int()` can convert a string to an integer"
   ]
  },
  {
   "cell_type": "code",
   "execution_count": 5,
   "metadata": {},
   "outputs": [
    {
     "name": "stdout",
     "output_type": "stream",
     "text": [
      "Petit poisson devient grand.\n"
     ]
    }
   ],
   "source": [
    "a='Petit poisson'\n",
    "b='devient grand.'\n",
    "print(a+' '+b)"
   ]
  },
  {
   "cell_type": "code",
   "execution_count": 6,
   "metadata": {},
   "outputs": [
    {
     "name": "stdout",
     "output_type": "stream",
     "text": [
      "4\n"
     ]
    }
   ],
   "source": [
    "c='allo'\n",
    "d=len(c)\n",
    "print(d)"
   ]
  },
  {
   "cell_type": "code",
   "execution_count": 9,
   "metadata": {},
   "outputs": [
    {
     "name": "stdout",
     "output_type": "stream",
     "text": [
      "Un chat noir.\n"
     ]
    }
   ],
   "source": [
    "phrase = \"Un chat\"\n",
    "phrase += \" noir.\"\n",
    "print(phrase)"
   ]
  },
  {
   "cell_type": "code",
   "execution_count": 10,
   "metadata": {},
   "outputs": [
    {
     "name": "stdout",
     "output_type": "stream",
     "text": [
      "8867\n"
     ]
    }
   ],
   "source": [
    "c=\"8866\"\n",
    "c=int(c)\n",
    "print(c+1)"
   ]
  },
  {
   "cell_type": "code",
   "execution_count": 11,
   "metadata": {},
   "outputs": [
    {
     "name": "stdout",
     "output_type": "stream",
     "text": [
      "allo allo allo allo allo \n"
     ]
    }
   ],
   "source": [
    "print('allo '*5)"
   ]
  },
  {
   "cell_type": "markdown",
   "metadata": {},
   "source": [
    "By default, the `print()` statement ends with a line break. We can change that through the `end` argument."
   ]
  },
  {
   "cell_type": "code",
   "execution_count": 15,
   "metadata": {},
   "outputs": [
    {
     "name": "stdout",
     "output_type": "stream",
     "text": [
      "Hello world!\n"
     ]
    }
   ],
   "source": [
    "print(\"Hello\", end=\" \")\n",
    "print(\"world!\")"
   ]
  },
  {
   "cell_type": "markdown",
   "metadata": {},
   "source": [
    "We use the brackets `[]` for string indexation. There are three possible arguments. \n",
    "\n",
    "* `a` to specify a string index. Python like many other langages, starts its idexation at 0, meaning that the first element of a string `x` would be `x[0]`, while the last element of the string is its length minus one.\n",
    "\n",
    "* `-a` is used the start counting from the end of the string.\n",
    "\n",
    "* `a:b` is used to specify a string section. The count starts at a and ends a b-1. For exemple, the section 2:4, would yield 2 characters since the character 4 is excluded. We can use the notation `:b` for a section that starts at the beginning of the string and `a:` for one that go until the end of the string.\n",
    "\n",
    "* `a:b:c`, in this case `c` specifies the step. For example, `::-1` can reverse the string."
   ]
  },
  {
   "cell_type": "code",
   "execution_count": 28,
   "metadata": {},
   "outputs": [
    {
     "name": "stdout",
     "output_type": "stream",
     "text": [
      "The index 0 of string is H\n",
      "The index 4 of string is o\n",
      "The index -2 of string is d\n",
      "The section 2:4 of string is ll\n",
      "The section 2:12:2 of string is lowrd\n",
      "We can reverse the order of the string with ::-1 as such !dlrow olleH\n"
     ]
    }
   ],
   "source": [
    "string = 'Hello world!'\n",
    "print(f'The index 0 of string is {string[0]}')\n",
    "print(f'The index 4 of string is {string[4]}')\n",
    "print(f'The index -2 of string is {string[-2]}')\n",
    "print(f'The section 2:4 of string is {string[2:4]}')\n",
    "print(f'The section 2:12:2 of string is {string[2:12:2]}')\n",
    "print(f'We can reverse the order of the string with ::-1 as such {string[::-1]}')"
   ]
  },
  {
   "cell_type": "markdown",
   "metadata": {},
   "source": [
    "Some other methods implement in the string data type.\n",
    "* `count` counts the number of occurence of a certain substring.\n",
    "*"
   ]
  }
 ],
 "metadata": {
  "kernelspec": {
   "display_name": "thewalrus",
   "language": "python",
   "name": "python3"
  },
  "language_info": {
   "codemirror_mode": {
    "name": "ipython",
    "version": 3
   },
   "file_extension": ".py",
   "mimetype": "text/x-python",
   "name": "python",
   "nbconvert_exporter": "python",
   "pygments_lexer": "ipython3",
   "version": "3.8.0"
  }
 },
 "nbformat": 4,
 "nbformat_minor": 2
}
